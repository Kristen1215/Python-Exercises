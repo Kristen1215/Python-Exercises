{
 "cells": [
  {
   "cell_type": "markdown",
   "metadata": {},
   "source": [
    "# **Python Training Exercises/HW Problems**"
   ]
  },
  {
   "cell_type": "markdown",
   "metadata": {},
   "source": [
    "## Problem 1\n",
    "### You are given a string and your task is to swap cases. In other words, convert all lowercase letters to uppercase letters and vice versa."
   ]
  },
  {
   "cell_type": "code",
   "execution_count": 13,
   "metadata": {},
   "outputs": [],
   "source": [
    "def case_swap(string):\n",
    "    # Write your code for Problem 1 over here\n",
    "    result = ''\n",
    "    for word in string:\n",
    "        if word.isupper():\n",
    "            result += word.lower()\n",
    "        else:\n",
    "            result += word.upper()\n",
    "    return result"
   ]
  },
  {
   "cell_type": "code",
   "execution_count": 14,
   "metadata": {
    "tags": []
   },
   "outputs": [
    {
     "name": "stdout",
     "output_type": "stream",
     "text": [
      "Your function has passed all of the tests!\n"
     ]
    }
   ],
   "source": [
    "'''\n",
    "Don't modify this cell at all!! This cell is for you to run and check if your answer to Problem 1 is correct\n",
    "'''\n",
    "from string import ascii_lowercase, ascii_uppercase, digits, punctuation\n",
    "\n",
    "def testProblem1():\n",
    "    assert case_swap(ascii_lowercase) == ascii_uppercase, \"Your function is returning the incorrect output\"\n",
    "    assert case_swap(ascii_uppercase) == ascii_lowercase, \"Your function is returning the incorrect output\"\n",
    "    assert case_swap('aBcDeF') == 'AbCdEf', \"Your function is returning the incorrect output\"\n",
    "    assert case_swap('hey guys!') == 'HEY GUYS!', \"Your function is returning the incorrect output\"\n",
    "    assert case_swap('STEM-AWAY') == 'stem-away', \"Your function is returning the incorrect output\"\n",
    "    assert case_swap(digits) == digits, \"Your function is returning the incorrect output\"\n",
    "    assert case_swap(punctuation) == punctuation, \"Your function is returning the incorrect output\"\n",
    "    \n",
    "    print('Your function has passed all of the tests!')\n",
    "\n",
    "testProblem1()"
   ]
  },
  {
   "cell_type": "markdown",
   "metadata": {},
   "source": [
    "## Problem 2\n",
    "### Return the number of even integers in the given array."
   ]
  },
  {
   "cell_type": "code",
   "execution_count": 21,
   "metadata": {},
   "outputs": [],
   "source": [
    "def even_ints(nums):\n",
    "    # Write your code for Problem 2 over here\n",
    "    count = 0\n",
    "    for num in nums:\n",
    "        if num %2 == 0:\n",
    "            count = count + 1\n",
    "\n",
    "    return count\n",
    "            "
   ]
  },
  {
   "cell_type": "code",
   "execution_count": 22,
   "metadata": {
    "tags": []
   },
   "outputs": [
    {
     "name": "stdout",
     "output_type": "stream",
     "text": [
      "Your function has passed all of the tests!\n"
     ]
    }
   ],
   "source": [
    "'''\n",
    "Don't modify this cell at all!! This cell is for you to run and check if your answer to Problem 2 is correct\n",
    "'''\n",
    "def testProblem2():\n",
    "    assert even_ints([2, 1, 2, 3, 4]) == 3, \"Your function is returning the incorrect output\"\n",
    "    assert even_ints([2, 2, 0]) == 3, \"Your function is returning the incorrect output\"\n",
    "    assert even_ints([1, 3, 5]) == 0, \"Your function is returning the incorrect output\"\n",
    "    assert even_ints([]) == 0, \"Your function is returning the incorrect output\"\n",
    "    assert even_ints([11, 9, 0, 1]) == 1, \"Your function is returning the incorrect output\"\n",
    "    assert even_ints([2, 11, 9, 0]) == 2, \"Your function is returning the incorrect output\"\n",
    "    assert even_ints([2]) == 1, \"Your function is returning the incorrect output\"\n",
    "    assert even_ints([2, 5, 12]) == 2, \"Your function is returning the incorrect output\"\n",
    "    \n",
    "    print('Your function has passed all of the tests!')\n",
    "\n",
    "testProblem2()"
   ]
  },
  {
   "cell_type": "markdown",
   "metadata": {},
   "source": [
    "## Problem 3\n",
    "### Given an array of ints, return True if the array contains a 2 next to a 2 somewhere."
   ]
  },
  {
   "cell_type": "code",
   "execution_count": 66,
   "metadata": {},
   "outputs": [],
   "source": [
    "def two_neighbors(nums):\n",
    "    for i in range(len(nums) - 1):\n",
    "        if nums[i] == 2 and nums[i + 1] == 2:\n",
    "            return True\n",
    "    \n",
    "    return False\n"
   ]
  },
  {
   "cell_type": "code",
   "execution_count": 67,
   "metadata": {
    "scrolled": false,
    "tags": []
   },
   "outputs": [
    {
     "name": "stdout",
     "output_type": "stream",
     "text": [
      "Your function has passed all of the tests!\n"
     ]
    }
   ],
   "source": [
    "'''\n",
    "Don't modify this cell at all!! This cell is for you to run and check if your answer to Problem 3 is correct\n",
    "'''\n",
    "def testProblem3():\n",
    "    assert two_neighbors([1, 2, 2]) == True, \"Your function is returning the incorrect output\"\n",
    "    assert two_neighbors([2, 0, 2]) == False, \"Your function is returning the incorrect output\"\n",
    "    assert two_neighbors([4, 5, 6]) == False, \"Your function is returning the incorrect output\"\n",
    "    assert two_neighbors([2, 2, 2]) == True, \"Your function is returning the incorrect output\"\n",
    "    \n",
    "    print('Your function has passed all of the tests!')\n",
    "    \n",
    "testProblem3()"
   ]
  },
  {
   "cell_type": "markdown",
   "metadata": {},
   "source": [
    "## Problem 4\n",
    "### Write a function in Python that implements the following logic: The squirrels in Palo Alto spend most of the day playing. In particular, they play if the temperature is between 60 and 90 (inclusive). Unless it is summer, then the upper limit is 100 instead of 90. Given an integer *temperature* and a Boolean *isSummer*, return *True* if the squirrels play and *False* otherwise."
   ]
  },
  {
   "cell_type": "code",
   "execution_count": 84,
   "metadata": {},
   "outputs": [],
   "source": [
    "def squirrelPlay(temperature, isSummer):\n",
    "    # Write your code for Problem 4 over here\n",
    "    upper = 90\n",
    "    \n",
    "    if isSummer:\n",
    "        upper = 100\n",
    "    \n",
    "    return(temperature>=60 and temperature <= upper)\n"
   ]
  },
  {
   "cell_type": "code",
   "execution_count": 85,
   "metadata": {
    "tags": []
   },
   "outputs": [
    {
     "name": "stdout",
     "output_type": "stream",
     "text": [
      "Your function has passed all of the tests!\n"
     ]
    }
   ],
   "source": [
    "'''\n",
    "Don't modify this cell at all!! This cell is for you to run and check if your answer to Problem 4 is correct\n",
    "'''\n",
    "def testProblem4():\n",
    "    assert squirrelPlay(70, False) == True, \"Your function is returning the incorrect output\"\n",
    "    assert squirrelPlay(95, False) == False, \"Your function is returning the incorrect output\"\n",
    "    assert squirrelPlay(95, True) == True, \"Your function is returning the incorrect output\"\n",
    "    assert squirrelPlay(90, False) == True, \"Your function is returning the incorrect output\"\n",
    "    assert squirrelPlay(90, True) == True, \"Your function is returning the incorrect output\"\n",
    "    assert squirrelPlay(50, False) == False, \"Your function is returning the incorrect output\"\n",
    "    assert squirrelPlay(50, True) == False, \"Your function is returning the incorrect output\"\n",
    "    assert squirrelPlay(100, False) == False, \"Your function is returning the incorrect output\"\n",
    "    assert squirrelPlay(100, True) == True, \"Your function is returning the incorrect output\"\n",
    "    assert squirrelPlay(105, True) == False, \"Your function is returning the incorrect output\"\n",
    "    assert squirrelPlay(59, False) == False, \"Your function is returning the incorrect output\"\n",
    "    assert squirrelPlay(59, True) == False, \"Your function is returning the incorrect output\"\n",
    "    assert squirrelPlay(60, False) == True, \"Your function is returning the incorrect output\"\n",
    "\n",
    "    \n",
    "    print('Your function has passed all of the tests!')\n",
    "    \n",
    "testProblem4()"
   ]
  },
  {
   "cell_type": "markdown",
   "metadata": {},
   "source": [
    "## Problem 5\n",
    "### Given a string, consider the prefix string made of the first *N* chars of the string. Does that prefix string appear somewhere else in the string? Assume that the string is not empty and that *N* is in the range *1..str.length()*."
   ]
  },
  {
   "cell_type": "code",
   "execution_count": 19,
   "metadata": {},
   "outputs": [],
   "source": [
    "def prefixAgain(str, n):\n",
    "    # Write your code for Problem 5 over here\n",
    "    return str.count(str[:n]) >1"
   ]
  },
  {
   "cell_type": "code",
   "execution_count": 20,
   "metadata": {
    "tags": []
   },
   "outputs": [
    {
     "name": "stdout",
     "output_type": "stream",
     "text": [
      "Your function has passed all of the tests!\n"
     ]
    }
   ],
   "source": [
    "'''\n",
    "Don't modify this cell at all!! This cell is for you to run and check if your answer to Problem 5 is correct\n",
    "'''\n",
    "def testProblem5():\n",
    "    assert prefixAgain(\"abXYabc\", 1) == True, \"Your function is returning the incorrect output\"\n",
    "    assert prefixAgain(\"abXYabc\", 2)  == True, \"Your function is returning the incorrect output\"\n",
    "    assert prefixAgain(\"abXYabc\", 3) == False, \"Your function is returning the incorrect output\"\n",
    "    assert prefixAgain(\"xyzxyxyxy\", 2) == True, \"Your function is returning the incorrect output\"\n",
    "    assert prefixAgain(\"xyzxyxyxy\", 3) == False, \"Your function is returning the incorrect output\"\n",
    "    assert prefixAgain(\"Hi12345Hi6789Hi10\", 1) == True, \"Your function is returning the incorrect output\"\n",
    "    assert prefixAgain(\"Hi12345Hi6789Hi10\", 2) == True, \"Your function is returning the incorrect output\"\n",
    "    assert prefixAgain(\"Hi12345Hi6789Hi10\", 4) == False, \"Your function is returning the incorrect output\"\n",
    "    assert prefixAgain(\"Hi12345Hi6789Hi10\", 3) == True, \"Your function is returning the incorrect output\"\n",
    "    assert prefixAgain(\"a\", 1) == False, \"Your function is returning the incorrect output\"\n",
    "    assert prefixAgain(\"aa\", 1) == True, \"Your function is returning the incorrect output\"\n",
    "    assert prefixAgain(\"ab\", 1) == False, \"Your function is returning the incorrect output\"\n",
    "\n",
    "    \n",
    "    print('Your function has passed all of the tests!')\n",
    "    \n",
    "testProblem5()"
   ]
  },
  {
   "cell_type": "markdown",
   "metadata": {},
   "source": [
    "## Problem 6\n",
    "1. Download the CSV file from the following website: https://www.kaggle.com/dgomonov/new-york-city-airbnb-open-data.\n",
    "2. Create a Pandas Dataframe of the dataset and display the first 10 rows of the Pandas Dataframe.\n",
    "3. Filter through the dataset and clean it.\n",
    "4. Create a Pandas Dataframe of the dataset after cleaning it and display the first 10 rows of the Pandas Dataframe.\n",
    "5. Use ***seaborn*** and plot *2* different graphs using the preprocessed dataset."
   ]
  },
  {
   "cell_type": "code",
   "execution_count": 23,
   "metadata": {},
   "outputs": [
    {
     "data": {
      "text/html": [
       "<div>\n",
       "<style scoped>\n",
       "    .dataframe tbody tr th:only-of-type {\n",
       "        vertical-align: middle;\n",
       "    }\n",
       "\n",
       "    .dataframe tbody tr th {\n",
       "        vertical-align: top;\n",
       "    }\n",
       "\n",
       "    .dataframe thead th {\n",
       "        text-align: right;\n",
       "    }\n",
       "</style>\n",
       "<table border=\"1\" class=\"dataframe\">\n",
       "  <thead>\n",
       "    <tr style=\"text-align: right;\">\n",
       "      <th></th>\n",
       "      <th>id</th>\n",
       "      <th>name</th>\n",
       "      <th>host_id</th>\n",
       "      <th>host_name</th>\n",
       "      <th>neighbourhood_group</th>\n",
       "      <th>neighbourhood</th>\n",
       "      <th>latitude</th>\n",
       "      <th>longitude</th>\n",
       "      <th>room_type</th>\n",
       "      <th>price</th>\n",
       "      <th>minimum_nights</th>\n",
       "      <th>number_of_reviews</th>\n",
       "      <th>last_review</th>\n",
       "      <th>reviews_per_month</th>\n",
       "      <th>calculated_host_listings_count</th>\n",
       "      <th>availability_365</th>\n",
       "    </tr>\n",
       "  </thead>\n",
       "  <tbody>\n",
       "    <tr>\n",
       "      <th>0</th>\n",
       "      <td>2539</td>\n",
       "      <td>Clean &amp; quiet apt home by the park</td>\n",
       "      <td>2787</td>\n",
       "      <td>John</td>\n",
       "      <td>Brooklyn</td>\n",
       "      <td>Kensington</td>\n",
       "      <td>40.64749</td>\n",
       "      <td>-73.97237</td>\n",
       "      <td>Private room</td>\n",
       "      <td>149</td>\n",
       "      <td>1</td>\n",
       "      <td>9</td>\n",
       "      <td>2018-10-19</td>\n",
       "      <td>0.21</td>\n",
       "      <td>6</td>\n",
       "      <td>365</td>\n",
       "    </tr>\n",
       "    <tr>\n",
       "      <th>1</th>\n",
       "      <td>2595</td>\n",
       "      <td>Skylit Midtown Castle</td>\n",
       "      <td>2845</td>\n",
       "      <td>Jennifer</td>\n",
       "      <td>Manhattan</td>\n",
       "      <td>Midtown</td>\n",
       "      <td>40.75362</td>\n",
       "      <td>-73.98377</td>\n",
       "      <td>Entire home/apt</td>\n",
       "      <td>225</td>\n",
       "      <td>1</td>\n",
       "      <td>45</td>\n",
       "      <td>2019-05-21</td>\n",
       "      <td>0.38</td>\n",
       "      <td>2</td>\n",
       "      <td>355</td>\n",
       "    </tr>\n",
       "    <tr>\n",
       "      <th>2</th>\n",
       "      <td>3647</td>\n",
       "      <td>THE VILLAGE OF HARLEM....NEW YORK !</td>\n",
       "      <td>4632</td>\n",
       "      <td>Elisabeth</td>\n",
       "      <td>Manhattan</td>\n",
       "      <td>Harlem</td>\n",
       "      <td>40.80902</td>\n",
       "      <td>-73.94190</td>\n",
       "      <td>Private room</td>\n",
       "      <td>150</td>\n",
       "      <td>3</td>\n",
       "      <td>0</td>\n",
       "      <td>NaN</td>\n",
       "      <td>NaN</td>\n",
       "      <td>1</td>\n",
       "      <td>365</td>\n",
       "    </tr>\n",
       "    <tr>\n",
       "      <th>3</th>\n",
       "      <td>3831</td>\n",
       "      <td>Cozy Entire Floor of Brownstone</td>\n",
       "      <td>4869</td>\n",
       "      <td>LisaRoxanne</td>\n",
       "      <td>Brooklyn</td>\n",
       "      <td>Clinton Hill</td>\n",
       "      <td>40.68514</td>\n",
       "      <td>-73.95976</td>\n",
       "      <td>Entire home/apt</td>\n",
       "      <td>89</td>\n",
       "      <td>1</td>\n",
       "      <td>270</td>\n",
       "      <td>2019-07-05</td>\n",
       "      <td>4.64</td>\n",
       "      <td>1</td>\n",
       "      <td>194</td>\n",
       "    </tr>\n",
       "    <tr>\n",
       "      <th>4</th>\n",
       "      <td>5022</td>\n",
       "      <td>Entire Apt: Spacious Studio/Loft by central park</td>\n",
       "      <td>7192</td>\n",
       "      <td>Laura</td>\n",
       "      <td>Manhattan</td>\n",
       "      <td>East Harlem</td>\n",
       "      <td>40.79851</td>\n",
       "      <td>-73.94399</td>\n",
       "      <td>Entire home/apt</td>\n",
       "      <td>80</td>\n",
       "      <td>10</td>\n",
       "      <td>9</td>\n",
       "      <td>2018-11-19</td>\n",
       "      <td>0.10</td>\n",
       "      <td>1</td>\n",
       "      <td>0</td>\n",
       "    </tr>\n",
       "    <tr>\n",
       "      <th>5</th>\n",
       "      <td>5099</td>\n",
       "      <td>Large Cozy 1 BR Apartment In Midtown East</td>\n",
       "      <td>7322</td>\n",
       "      <td>Chris</td>\n",
       "      <td>Manhattan</td>\n",
       "      <td>Murray Hill</td>\n",
       "      <td>40.74767</td>\n",
       "      <td>-73.97500</td>\n",
       "      <td>Entire home/apt</td>\n",
       "      <td>200</td>\n",
       "      <td>3</td>\n",
       "      <td>74</td>\n",
       "      <td>2019-06-22</td>\n",
       "      <td>0.59</td>\n",
       "      <td>1</td>\n",
       "      <td>129</td>\n",
       "    </tr>\n",
       "    <tr>\n",
       "      <th>6</th>\n",
       "      <td>5121</td>\n",
       "      <td>BlissArtsSpace!</td>\n",
       "      <td>7356</td>\n",
       "      <td>Garon</td>\n",
       "      <td>Brooklyn</td>\n",
       "      <td>Bedford-Stuyvesant</td>\n",
       "      <td>40.68688</td>\n",
       "      <td>-73.95596</td>\n",
       "      <td>Private room</td>\n",
       "      <td>60</td>\n",
       "      <td>45</td>\n",
       "      <td>49</td>\n",
       "      <td>2017-10-05</td>\n",
       "      <td>0.40</td>\n",
       "      <td>1</td>\n",
       "      <td>0</td>\n",
       "    </tr>\n",
       "    <tr>\n",
       "      <th>7</th>\n",
       "      <td>5178</td>\n",
       "      <td>Large Furnished Room Near B'way</td>\n",
       "      <td>8967</td>\n",
       "      <td>Shunichi</td>\n",
       "      <td>Manhattan</td>\n",
       "      <td>Hell's Kitchen</td>\n",
       "      <td>40.76489</td>\n",
       "      <td>-73.98493</td>\n",
       "      <td>Private room</td>\n",
       "      <td>79</td>\n",
       "      <td>2</td>\n",
       "      <td>430</td>\n",
       "      <td>2019-06-24</td>\n",
       "      <td>3.47</td>\n",
       "      <td>1</td>\n",
       "      <td>220</td>\n",
       "    </tr>\n",
       "    <tr>\n",
       "      <th>8</th>\n",
       "      <td>5203</td>\n",
       "      <td>Cozy Clean Guest Room - Family Apt</td>\n",
       "      <td>7490</td>\n",
       "      <td>MaryEllen</td>\n",
       "      <td>Manhattan</td>\n",
       "      <td>Upper West Side</td>\n",
       "      <td>40.80178</td>\n",
       "      <td>-73.96723</td>\n",
       "      <td>Private room</td>\n",
       "      <td>79</td>\n",
       "      <td>2</td>\n",
       "      <td>118</td>\n",
       "      <td>2017-07-21</td>\n",
       "      <td>0.99</td>\n",
       "      <td>1</td>\n",
       "      <td>0</td>\n",
       "    </tr>\n",
       "    <tr>\n",
       "      <th>9</th>\n",
       "      <td>5238</td>\n",
       "      <td>Cute &amp; Cozy Lower East Side 1 bdrm</td>\n",
       "      <td>7549</td>\n",
       "      <td>Ben</td>\n",
       "      <td>Manhattan</td>\n",
       "      <td>Chinatown</td>\n",
       "      <td>40.71344</td>\n",
       "      <td>-73.99037</td>\n",
       "      <td>Entire home/apt</td>\n",
       "      <td>150</td>\n",
       "      <td>1</td>\n",
       "      <td>160</td>\n",
       "      <td>2019-06-09</td>\n",
       "      <td>1.33</td>\n",
       "      <td>4</td>\n",
       "      <td>188</td>\n",
       "    </tr>\n",
       "  </tbody>\n",
       "</table>\n",
       "</div>"
      ],
      "text/plain": [
       "     id                                              name  host_id  \\\n",
       "0  2539                Clean & quiet apt home by the park     2787   \n",
       "1  2595                             Skylit Midtown Castle     2845   \n",
       "2  3647               THE VILLAGE OF HARLEM....NEW YORK !     4632   \n",
       "3  3831                   Cozy Entire Floor of Brownstone     4869   \n",
       "4  5022  Entire Apt: Spacious Studio/Loft by central park     7192   \n",
       "5  5099         Large Cozy 1 BR Apartment In Midtown East     7322   \n",
       "6  5121                                   BlissArtsSpace!     7356   \n",
       "7  5178                  Large Furnished Room Near B'way      8967   \n",
       "8  5203                Cozy Clean Guest Room - Family Apt     7490   \n",
       "9  5238                Cute & Cozy Lower East Side 1 bdrm     7549   \n",
       "\n",
       "     host_name neighbourhood_group       neighbourhood  latitude  longitude  \\\n",
       "0         John            Brooklyn          Kensington  40.64749  -73.97237   \n",
       "1     Jennifer           Manhattan             Midtown  40.75362  -73.98377   \n",
       "2    Elisabeth           Manhattan              Harlem  40.80902  -73.94190   \n",
       "3  LisaRoxanne            Brooklyn        Clinton Hill  40.68514  -73.95976   \n",
       "4        Laura           Manhattan         East Harlem  40.79851  -73.94399   \n",
       "5        Chris           Manhattan         Murray Hill  40.74767  -73.97500   \n",
       "6        Garon            Brooklyn  Bedford-Stuyvesant  40.68688  -73.95596   \n",
       "7     Shunichi           Manhattan      Hell's Kitchen  40.76489  -73.98493   \n",
       "8    MaryEllen           Manhattan     Upper West Side  40.80178  -73.96723   \n",
       "9          Ben           Manhattan           Chinatown  40.71344  -73.99037   \n",
       "\n",
       "         room_type  price  minimum_nights  number_of_reviews last_review  \\\n",
       "0     Private room    149               1                  9  2018-10-19   \n",
       "1  Entire home/apt    225               1                 45  2019-05-21   \n",
       "2     Private room    150               3                  0         NaN   \n",
       "3  Entire home/apt     89               1                270  2019-07-05   \n",
       "4  Entire home/apt     80              10                  9  2018-11-19   \n",
       "5  Entire home/apt    200               3                 74  2019-06-22   \n",
       "6     Private room     60              45                 49  2017-10-05   \n",
       "7     Private room     79               2                430  2019-06-24   \n",
       "8     Private room     79               2                118  2017-07-21   \n",
       "9  Entire home/apt    150               1                160  2019-06-09   \n",
       "\n",
       "   reviews_per_month  calculated_host_listings_count  availability_365  \n",
       "0               0.21                               6               365  \n",
       "1               0.38                               2               355  \n",
       "2                NaN                               1               365  \n",
       "3               4.64                               1               194  \n",
       "4               0.10                               1                 0  \n",
       "5               0.59                               1               129  \n",
       "6               0.40                               1                 0  \n",
       "7               3.47                               1               220  \n",
       "8               0.99                               1                 0  \n",
       "9               1.33                               4               188  "
      ]
     },
     "execution_count": 23,
     "metadata": {},
     "output_type": "execute_result"
    }
   ],
   "source": [
    "# Write your code for Problem 6 over here\n",
    "import pandas as pd\n",
    "nycdata = pd.read_csv(\"file:///Users/kristenkelly/Desktop/CEL%20data/AB_NYC_2019.csv\")\n",
    "nycdata.head(10)"
   ]
  },
  {
   "cell_type": "code",
   "execution_count": 30,
   "metadata": {},
   "outputs": [
    {
     "name": "stdout",
     "output_type": "stream",
     "text": [
      "                                                    host_id      host_name  \\\n",
      "name                                                                         \n",
      "Clean & quiet apt home by the park                     2787           John   \n",
      "Skylit Midtown Castle                                  2845       Jennifer   \n",
      "Cozy Entire Floor of Brownstone                        4869    LisaRoxanne   \n",
      "Entire Apt: Spacious Studio/Loft by central park       7192          Laura   \n",
      "Large Cozy 1 BR Apartment In Midtown East              7322          Chris   \n",
      "...                                                     ...            ...   \n",
      "Charming one bedroom - newly renovated rowhouse     8232441        Sabrina   \n",
      "Affordable room in Bushwick/East Williamsburg       6570630        Marisol   \n",
      "Sunny Studio at Historical Neighborhood            23492952  Ilgar & Aysel   \n",
      "43rd St. Time Square-cozy single bed               30985759            Taz   \n",
      "Trendy duplex in the very heart of Hell's Kitchen  68119814     Christophe   \n",
      "\n",
      "                                                  neighbourhood_group  \\\n",
      "name                                                                    \n",
      "Clean & quiet apt home by the park                           Brooklyn   \n",
      "Skylit Midtown Castle                                       Manhattan   \n",
      "Cozy Entire Floor of Brownstone                              Brooklyn   \n",
      "Entire Apt: Spacious Studio/Loft by central park            Manhattan   \n",
      "Large Cozy 1 BR Apartment In Midtown East                   Manhattan   \n",
      "...                                                               ...   \n",
      "Charming one bedroom - newly renovated rowhouse              Brooklyn   \n",
      "Affordable room in Bushwick/East Williamsburg                Brooklyn   \n",
      "Sunny Studio at Historical Neighborhood                     Manhattan   \n",
      "43rd St. Time Square-cozy single bed                        Manhattan   \n",
      "Trendy duplex in the very heart of Hell's Kitchen           Manhattan   \n",
      "\n",
      "                                                        neighbourhood  \\\n",
      "name                                                                    \n",
      "Clean & quiet apt home by the park                         Kensington   \n",
      "Skylit Midtown Castle                                         Midtown   \n",
      "Cozy Entire Floor of Brownstone                          Clinton Hill   \n",
      "Entire Apt: Spacious Studio/Loft by central park          East Harlem   \n",
      "Large Cozy 1 BR Apartment In Midtown East                 Murray Hill   \n",
      "...                                                               ...   \n",
      "Charming one bedroom - newly renovated rowhouse    Bedford-Stuyvesant   \n",
      "Affordable room in Bushwick/East Williamsburg                Bushwick   \n",
      "Sunny Studio at Historical Neighborhood                        Harlem   \n",
      "43rd St. Time Square-cozy single bed                   Hell's Kitchen   \n",
      "Trendy duplex in the very heart of Hell's Kitchen      Hell's Kitchen   \n",
      "\n",
      "                                                   latitude  longitude  \\\n",
      "name                                                                     \n",
      "Clean & quiet apt home by the park                 40.64749  -73.97237   \n",
      "Skylit Midtown Castle                              40.75362  -73.98377   \n",
      "Cozy Entire Floor of Brownstone                    40.68514  -73.95976   \n",
      "Entire Apt: Spacious Studio/Loft by central park   40.79851  -73.94399   \n",
      "Large Cozy 1 BR Apartment In Midtown East          40.74767  -73.97500   \n",
      "...                                                     ...        ...   \n",
      "Charming one bedroom - newly renovated rowhouse    40.67853  -73.94995   \n",
      "Affordable room in Bushwick/East Williamsburg      40.70184  -73.93317   \n",
      "Sunny Studio at Historical Neighborhood            40.81475  -73.94867   \n",
      "43rd St. Time Square-cozy single bed               40.75751  -73.99112   \n",
      "Trendy duplex in the very heart of Hell's Kitchen  40.76404  -73.98933   \n",
      "\n",
      "                                                         room_type  price  \\\n",
      "name                                                                        \n",
      "Clean & quiet apt home by the park                    Private room    149   \n",
      "Skylit Midtown Castle                              Entire home/apt    225   \n",
      "Cozy Entire Floor of Brownstone                    Entire home/apt     89   \n",
      "Entire Apt: Spacious Studio/Loft by central park   Entire home/apt     80   \n",
      "Large Cozy 1 BR Apartment In Midtown East          Entire home/apt    200   \n",
      "...                                                            ...    ...   \n",
      "Charming one bedroom - newly renovated rowhouse       Private room     70   \n",
      "Affordable room in Bushwick/East Williamsburg         Private room     40   \n",
      "Sunny Studio at Historical Neighborhood            Entire home/apt    115   \n",
      "43rd St. Time Square-cozy single bed                   Shared room     55   \n",
      "Trendy duplex in the very heart of Hell's Kitchen     Private room     90   \n",
      "\n",
      "                                                   minimum_nights  \\\n",
      "name                                                                \n",
      "Clean & quiet apt home by the park                              1   \n",
      "Skylit Midtown Castle                                           1   \n",
      "Cozy Entire Floor of Brownstone                                 1   \n",
      "Entire Apt: Spacious Studio/Loft by central park               10   \n",
      "Large Cozy 1 BR Apartment In Midtown East                       3   \n",
      "...                                                           ...   \n",
      "Charming one bedroom - newly renovated rowhouse                 2   \n",
      "Affordable room in Bushwick/East Williamsburg                   4   \n",
      "Sunny Studio at Historical Neighborhood                        10   \n",
      "43rd St. Time Square-cozy single bed                            1   \n",
      "Trendy duplex in the very heart of Hell's Kitchen               7   \n",
      "\n",
      "                                                   number_of_reviews  \\\n",
      "name                                                                   \n",
      "Clean & quiet apt home by the park                                 9   \n",
      "Skylit Midtown Castle                                             45   \n",
      "Cozy Entire Floor of Brownstone                                  270   \n",
      "Entire Apt: Spacious Studio/Loft by central park                   9   \n",
      "Large Cozy 1 BR Apartment In Midtown East                         74   \n",
      "...                                                              ...   \n",
      "Charming one bedroom - newly renovated rowhouse                    0   \n",
      "Affordable room in Bushwick/East Williamsburg                      0   \n",
      "Sunny Studio at Historical Neighborhood                            0   \n",
      "43rd St. Time Square-cozy single bed                               0   \n",
      "Trendy duplex in the very heart of Hell's Kitchen                  0   \n",
      "\n",
      "                                                  last_review  \\\n",
      "name                                                            \n",
      "Clean & quiet apt home by the park                 2018-10-19   \n",
      "Skylit Midtown Castle                              2019-05-21   \n",
      "Cozy Entire Floor of Brownstone                    2019-07-05   \n",
      "Entire Apt: Spacious Studio/Loft by central park   2018-11-19   \n",
      "Large Cozy 1 BR Apartment In Midtown East          2019-06-22   \n",
      "...                                                       ...   \n",
      "Charming one bedroom - newly renovated rowhouse           NaN   \n",
      "Affordable room in Bushwick/East Williamsburg             NaN   \n",
      "Sunny Studio at Historical Neighborhood                   NaN   \n",
      "43rd St. Time Square-cozy single bed                      NaN   \n",
      "Trendy duplex in the very heart of Hell's Kitchen         NaN   \n",
      "\n",
      "                                                   reviews_per_month  \\\n",
      "name                                                                   \n",
      "Clean & quiet apt home by the park                              0.21   \n",
      "Skylit Midtown Castle                                           0.38   \n",
      "Cozy Entire Floor of Brownstone                                 4.64   \n",
      "Entire Apt: Spacious Studio/Loft by central park                0.10   \n",
      "Large Cozy 1 BR Apartment In Midtown East                       0.59   \n",
      "...                                                              ...   \n",
      "Charming one bedroom - newly renovated rowhouse                  NaN   \n",
      "Affordable room in Bushwick/East Williamsburg                    NaN   \n",
      "Sunny Studio at Historical Neighborhood                          NaN   \n",
      "43rd St. Time Square-cozy single bed                             NaN   \n",
      "Trendy duplex in the very heart of Hell's Kitchen                NaN   \n",
      "\n",
      "                                                   calculated_host_listings_count  \\\n",
      "name                                                                                \n",
      "Clean & quiet apt home by the park                                              6   \n",
      "Skylit Midtown Castle                                                           2   \n",
      "Cozy Entire Floor of Brownstone                                                 1   \n",
      "Entire Apt: Spacious Studio/Loft by central park                                1   \n",
      "Large Cozy 1 BR Apartment In Midtown East                                       1   \n",
      "...                                                                           ...   \n",
      "Charming one bedroom - newly renovated rowhouse                                 2   \n",
      "Affordable room in Bushwick/East Williamsburg                                   2   \n",
      "Sunny Studio at Historical Neighborhood                                         1   \n",
      "43rd St. Time Square-cozy single bed                                            6   \n",
      "Trendy duplex in the very heart of Hell's Kitchen                               1   \n",
      "\n",
      "                                                   availability_365  \n",
      "name                                                                 \n",
      "Clean & quiet apt home by the park                              365  \n",
      "Skylit Midtown Castle                                           355  \n",
      "Cozy Entire Floor of Brownstone                                 194  \n",
      "Entire Apt: Spacious Studio/Loft by central park                  0  \n",
      "Large Cozy 1 BR Apartment In Midtown East                       129  \n",
      "...                                                             ...  \n",
      "Charming one bedroom - newly renovated rowhouse                   9  \n",
      "Affordable room in Bushwick/East Williamsburg                    36  \n",
      "Sunny Studio at Historical Neighborhood                          27  \n",
      "43rd St. Time Square-cozy single bed                              2  \n",
      "Trendy duplex in the very heart of Hell's Kitchen                23  \n",
      "\n",
      "[48894 rows x 14 columns]\n"
     ]
    },
    {
     "data": {
      "text/html": [
       "<div>\n",
       "<style scoped>\n",
       "    .dataframe tbody tr th:only-of-type {\n",
       "        vertical-align: middle;\n",
       "    }\n",
       "\n",
       "    .dataframe tbody tr th {\n",
       "        vertical-align: top;\n",
       "    }\n",
       "\n",
       "    .dataframe thead th {\n",
       "        text-align: right;\n",
       "    }\n",
       "</style>\n",
       "<table border=\"1\" class=\"dataframe\">\n",
       "  <thead>\n",
       "    <tr style=\"text-align: right;\">\n",
       "      <th></th>\n",
       "      <th>host_id</th>\n",
       "      <th>host_name</th>\n",
       "      <th>neighbourhood_group</th>\n",
       "      <th>neighbourhood</th>\n",
       "      <th>latitude</th>\n",
       "      <th>longitude</th>\n",
       "      <th>room_type</th>\n",
       "      <th>price</th>\n",
       "      <th>minimum_nights</th>\n",
       "      <th>number_of_reviews</th>\n",
       "      <th>last_review</th>\n",
       "      <th>reviews_per_month</th>\n",
       "      <th>calculated_host_listings_count</th>\n",
       "      <th>availability_365</th>\n",
       "    </tr>\n",
       "    <tr>\n",
       "      <th>name</th>\n",
       "      <th></th>\n",
       "      <th></th>\n",
       "      <th></th>\n",
       "      <th></th>\n",
       "      <th></th>\n",
       "      <th></th>\n",
       "      <th></th>\n",
       "      <th></th>\n",
       "      <th></th>\n",
       "      <th></th>\n",
       "      <th></th>\n",
       "      <th></th>\n",
       "      <th></th>\n",
       "      <th></th>\n",
       "    </tr>\n",
       "  </thead>\n",
       "  <tbody>\n",
       "    <tr>\n",
       "      <th>Clean &amp; quiet apt home by the park</th>\n",
       "      <td>2787</td>\n",
       "      <td>John</td>\n",
       "      <td>Brooklyn</td>\n",
       "      <td>Kensington</td>\n",
       "      <td>40.64749</td>\n",
       "      <td>-73.97237</td>\n",
       "      <td>Private room</td>\n",
       "      <td>149</td>\n",
       "      <td>1</td>\n",
       "      <td>9</td>\n",
       "      <td>2018-10-19</td>\n",
       "      <td>0.21</td>\n",
       "      <td>6</td>\n",
       "      <td>365</td>\n",
       "    </tr>\n",
       "    <tr>\n",
       "      <th>Skylit Midtown Castle</th>\n",
       "      <td>2845</td>\n",
       "      <td>Jennifer</td>\n",
       "      <td>Manhattan</td>\n",
       "      <td>Midtown</td>\n",
       "      <td>40.75362</td>\n",
       "      <td>-73.98377</td>\n",
       "      <td>Entire home/apt</td>\n",
       "      <td>225</td>\n",
       "      <td>1</td>\n",
       "      <td>45</td>\n",
       "      <td>2019-05-21</td>\n",
       "      <td>0.38</td>\n",
       "      <td>2</td>\n",
       "      <td>355</td>\n",
       "    </tr>\n",
       "    <tr>\n",
       "      <th>THE VILLAGE OF HARLEM....NEW YORK !</th>\n",
       "      <td>4632</td>\n",
       "      <td>Elisabeth</td>\n",
       "      <td>Manhattan</td>\n",
       "      <td>Harlem</td>\n",
       "      <td>40.80902</td>\n",
       "      <td>-73.94190</td>\n",
       "      <td>Private room</td>\n",
       "      <td>150</td>\n",
       "      <td>3</td>\n",
       "      <td>0</td>\n",
       "      <td>NaN</td>\n",
       "      <td>NaN</td>\n",
       "      <td>1</td>\n",
       "      <td>365</td>\n",
       "    </tr>\n",
       "    <tr>\n",
       "      <th>Cozy Entire Floor of Brownstone</th>\n",
       "      <td>4869</td>\n",
       "      <td>LisaRoxanne</td>\n",
       "      <td>Brooklyn</td>\n",
       "      <td>Clinton Hill</td>\n",
       "      <td>40.68514</td>\n",
       "      <td>-73.95976</td>\n",
       "      <td>Entire home/apt</td>\n",
       "      <td>89</td>\n",
       "      <td>1</td>\n",
       "      <td>270</td>\n",
       "      <td>2019-07-05</td>\n",
       "      <td>4.64</td>\n",
       "      <td>1</td>\n",
       "      <td>194</td>\n",
       "    </tr>\n",
       "    <tr>\n",
       "      <th>Entire Apt: Spacious Studio/Loft by central park</th>\n",
       "      <td>7192</td>\n",
       "      <td>Laura</td>\n",
       "      <td>Manhattan</td>\n",
       "      <td>East Harlem</td>\n",
       "      <td>40.79851</td>\n",
       "      <td>-73.94399</td>\n",
       "      <td>Entire home/apt</td>\n",
       "      <td>80</td>\n",
       "      <td>10</td>\n",
       "      <td>9</td>\n",
       "      <td>2018-11-19</td>\n",
       "      <td>0.10</td>\n",
       "      <td>1</td>\n",
       "      <td>0</td>\n",
       "    </tr>\n",
       "    <tr>\n",
       "      <th>Large Cozy 1 BR Apartment In Midtown East</th>\n",
       "      <td>7322</td>\n",
       "      <td>Chris</td>\n",
       "      <td>Manhattan</td>\n",
       "      <td>Murray Hill</td>\n",
       "      <td>40.74767</td>\n",
       "      <td>-73.97500</td>\n",
       "      <td>Entire home/apt</td>\n",
       "      <td>200</td>\n",
       "      <td>3</td>\n",
       "      <td>74</td>\n",
       "      <td>2019-06-22</td>\n",
       "      <td>0.59</td>\n",
       "      <td>1</td>\n",
       "      <td>129</td>\n",
       "    </tr>\n",
       "    <tr>\n",
       "      <th>BlissArtsSpace!</th>\n",
       "      <td>7356</td>\n",
       "      <td>Garon</td>\n",
       "      <td>Brooklyn</td>\n",
       "      <td>Bedford-Stuyvesant</td>\n",
       "      <td>40.68688</td>\n",
       "      <td>-73.95596</td>\n",
       "      <td>Private room</td>\n",
       "      <td>60</td>\n",
       "      <td>45</td>\n",
       "      <td>49</td>\n",
       "      <td>2017-10-05</td>\n",
       "      <td>0.40</td>\n",
       "      <td>1</td>\n",
       "      <td>0</td>\n",
       "    </tr>\n",
       "    <tr>\n",
       "      <th>Large Furnished Room Near B'way</th>\n",
       "      <td>8967</td>\n",
       "      <td>Shunichi</td>\n",
       "      <td>Manhattan</td>\n",
       "      <td>Hell's Kitchen</td>\n",
       "      <td>40.76489</td>\n",
       "      <td>-73.98493</td>\n",
       "      <td>Private room</td>\n",
       "      <td>79</td>\n",
       "      <td>2</td>\n",
       "      <td>430</td>\n",
       "      <td>2019-06-24</td>\n",
       "      <td>3.47</td>\n",
       "      <td>1</td>\n",
       "      <td>220</td>\n",
       "    </tr>\n",
       "    <tr>\n",
       "      <th>Cozy Clean Guest Room - Family Apt</th>\n",
       "      <td>7490</td>\n",
       "      <td>MaryEllen</td>\n",
       "      <td>Manhattan</td>\n",
       "      <td>Upper West Side</td>\n",
       "      <td>40.80178</td>\n",
       "      <td>-73.96723</td>\n",
       "      <td>Private room</td>\n",
       "      <td>79</td>\n",
       "      <td>2</td>\n",
       "      <td>118</td>\n",
       "      <td>2017-07-21</td>\n",
       "      <td>0.99</td>\n",
       "      <td>1</td>\n",
       "      <td>0</td>\n",
       "    </tr>\n",
       "    <tr>\n",
       "      <th>Cute &amp; Cozy Lower East Side 1 bdrm</th>\n",
       "      <td>7549</td>\n",
       "      <td>Ben</td>\n",
       "      <td>Manhattan</td>\n",
       "      <td>Chinatown</td>\n",
       "      <td>40.71344</td>\n",
       "      <td>-73.99037</td>\n",
       "      <td>Entire home/apt</td>\n",
       "      <td>150</td>\n",
       "      <td>1</td>\n",
       "      <td>160</td>\n",
       "      <td>2019-06-09</td>\n",
       "      <td>1.33</td>\n",
       "      <td>4</td>\n",
       "      <td>188</td>\n",
       "    </tr>\n",
       "  </tbody>\n",
       "</table>\n",
       "</div>"
      ],
      "text/plain": [
       "                                                  host_id    host_name  \\\n",
       "name                                                                     \n",
       "Clean & quiet apt home by the park                   2787         John   \n",
       "Skylit Midtown Castle                                2845     Jennifer   \n",
       "THE VILLAGE OF HARLEM....NEW YORK !                  4632    Elisabeth   \n",
       "Cozy Entire Floor of Brownstone                      4869  LisaRoxanne   \n",
       "Entire Apt: Spacious Studio/Loft by central park     7192        Laura   \n",
       "Large Cozy 1 BR Apartment In Midtown East            7322        Chris   \n",
       "BlissArtsSpace!                                      7356        Garon   \n",
       "Large Furnished Room Near B'way                      8967     Shunichi   \n",
       "Cozy Clean Guest Room - Family Apt                   7490    MaryEllen   \n",
       "Cute & Cozy Lower East Side 1 bdrm                   7549          Ben   \n",
       "\n",
       "                                                 neighbourhood_group  \\\n",
       "name                                                                   \n",
       "Clean & quiet apt home by the park                          Brooklyn   \n",
       "Skylit Midtown Castle                                      Manhattan   \n",
       "THE VILLAGE OF HARLEM....NEW YORK !                        Manhattan   \n",
       "Cozy Entire Floor of Brownstone                             Brooklyn   \n",
       "Entire Apt: Spacious Studio/Loft by central park           Manhattan   \n",
       "Large Cozy 1 BR Apartment In Midtown East                  Manhattan   \n",
       "BlissArtsSpace!                                             Brooklyn   \n",
       "Large Furnished Room Near B'way                            Manhattan   \n",
       "Cozy Clean Guest Room - Family Apt                         Manhattan   \n",
       "Cute & Cozy Lower East Side 1 bdrm                         Manhattan   \n",
       "\n",
       "                                                       neighbourhood  \\\n",
       "name                                                                   \n",
       "Clean & quiet apt home by the park                        Kensington   \n",
       "Skylit Midtown Castle                                        Midtown   \n",
       "THE VILLAGE OF HARLEM....NEW YORK !                           Harlem   \n",
       "Cozy Entire Floor of Brownstone                         Clinton Hill   \n",
       "Entire Apt: Spacious Studio/Loft by central park         East Harlem   \n",
       "Large Cozy 1 BR Apartment In Midtown East                Murray Hill   \n",
       "BlissArtsSpace!                                   Bedford-Stuyvesant   \n",
       "Large Furnished Room Near B'way                       Hell's Kitchen   \n",
       "Cozy Clean Guest Room - Family Apt                   Upper West Side   \n",
       "Cute & Cozy Lower East Side 1 bdrm                         Chinatown   \n",
       "\n",
       "                                                  latitude  longitude  \\\n",
       "name                                                                    \n",
       "Clean & quiet apt home by the park                40.64749  -73.97237   \n",
       "Skylit Midtown Castle                             40.75362  -73.98377   \n",
       "THE VILLAGE OF HARLEM....NEW YORK !               40.80902  -73.94190   \n",
       "Cozy Entire Floor of Brownstone                   40.68514  -73.95976   \n",
       "Entire Apt: Spacious Studio/Loft by central park  40.79851  -73.94399   \n",
       "Large Cozy 1 BR Apartment In Midtown East         40.74767  -73.97500   \n",
       "BlissArtsSpace!                                   40.68688  -73.95596   \n",
       "Large Furnished Room Near B'way                   40.76489  -73.98493   \n",
       "Cozy Clean Guest Room - Family Apt                40.80178  -73.96723   \n",
       "Cute & Cozy Lower East Side 1 bdrm                40.71344  -73.99037   \n",
       "\n",
       "                                                        room_type  price  \\\n",
       "name                                                                       \n",
       "Clean & quiet apt home by the park                   Private room    149   \n",
       "Skylit Midtown Castle                             Entire home/apt    225   \n",
       "THE VILLAGE OF HARLEM....NEW YORK !                  Private room    150   \n",
       "Cozy Entire Floor of Brownstone                   Entire home/apt     89   \n",
       "Entire Apt: Spacious Studio/Loft by central park  Entire home/apt     80   \n",
       "Large Cozy 1 BR Apartment In Midtown East         Entire home/apt    200   \n",
       "BlissArtsSpace!                                      Private room     60   \n",
       "Large Furnished Room Near B'way                      Private room     79   \n",
       "Cozy Clean Guest Room - Family Apt                   Private room     79   \n",
       "Cute & Cozy Lower East Side 1 bdrm                Entire home/apt    150   \n",
       "\n",
       "                                                  minimum_nights  \\\n",
       "name                                                               \n",
       "Clean & quiet apt home by the park                             1   \n",
       "Skylit Midtown Castle                                          1   \n",
       "THE VILLAGE OF HARLEM....NEW YORK !                            3   \n",
       "Cozy Entire Floor of Brownstone                                1   \n",
       "Entire Apt: Spacious Studio/Loft by central park              10   \n",
       "Large Cozy 1 BR Apartment In Midtown East                      3   \n",
       "BlissArtsSpace!                                               45   \n",
       "Large Furnished Room Near B'way                                2   \n",
       "Cozy Clean Guest Room - Family Apt                             2   \n",
       "Cute & Cozy Lower East Side 1 bdrm                             1   \n",
       "\n",
       "                                                  number_of_reviews  \\\n",
       "name                                                                  \n",
       "Clean & quiet apt home by the park                                9   \n",
       "Skylit Midtown Castle                                            45   \n",
       "THE VILLAGE OF HARLEM....NEW YORK !                               0   \n",
       "Cozy Entire Floor of Brownstone                                 270   \n",
       "Entire Apt: Spacious Studio/Loft by central park                  9   \n",
       "Large Cozy 1 BR Apartment In Midtown East                        74   \n",
       "BlissArtsSpace!                                                  49   \n",
       "Large Furnished Room Near B'way                                 430   \n",
       "Cozy Clean Guest Room - Family Apt                              118   \n",
       "Cute & Cozy Lower East Side 1 bdrm                              160   \n",
       "\n",
       "                                                 last_review  \\\n",
       "name                                                           \n",
       "Clean & quiet apt home by the park                2018-10-19   \n",
       "Skylit Midtown Castle                             2019-05-21   \n",
       "THE VILLAGE OF HARLEM....NEW YORK !                      NaN   \n",
       "Cozy Entire Floor of Brownstone                   2019-07-05   \n",
       "Entire Apt: Spacious Studio/Loft by central park  2018-11-19   \n",
       "Large Cozy 1 BR Apartment In Midtown East         2019-06-22   \n",
       "BlissArtsSpace!                                   2017-10-05   \n",
       "Large Furnished Room Near B'way                   2019-06-24   \n",
       "Cozy Clean Guest Room - Family Apt                2017-07-21   \n",
       "Cute & Cozy Lower East Side 1 bdrm                2019-06-09   \n",
       "\n",
       "                                                  reviews_per_month  \\\n",
       "name                                                                  \n",
       "Clean & quiet apt home by the park                             0.21   \n",
       "Skylit Midtown Castle                                          0.38   \n",
       "THE VILLAGE OF HARLEM....NEW YORK !                             NaN   \n",
       "Cozy Entire Floor of Brownstone                                4.64   \n",
       "Entire Apt: Spacious Studio/Loft by central park               0.10   \n",
       "Large Cozy 1 BR Apartment In Midtown East                      0.59   \n",
       "BlissArtsSpace!                                                0.40   \n",
       "Large Furnished Room Near B'way                                3.47   \n",
       "Cozy Clean Guest Room - Family Apt                             0.99   \n",
       "Cute & Cozy Lower East Side 1 bdrm                             1.33   \n",
       "\n",
       "                                                  calculated_host_listings_count  \\\n",
       "name                                                                               \n",
       "Clean & quiet apt home by the park                                             6   \n",
       "Skylit Midtown Castle                                                          2   \n",
       "THE VILLAGE OF HARLEM....NEW YORK !                                            1   \n",
       "Cozy Entire Floor of Brownstone                                                1   \n",
       "Entire Apt: Spacious Studio/Loft by central park                               1   \n",
       "Large Cozy 1 BR Apartment In Midtown East                                      1   \n",
       "BlissArtsSpace!                                                                1   \n",
       "Large Furnished Room Near B'way                                                1   \n",
       "Cozy Clean Guest Room - Family Apt                                             1   \n",
       "Cute & Cozy Lower East Side 1 bdrm                                             4   \n",
       "\n",
       "                                                  availability_365  \n",
       "name                                                                \n",
       "Clean & quiet apt home by the park                             365  \n",
       "Skylit Midtown Castle                                          355  \n",
       "THE VILLAGE OF HARLEM....NEW YORK !                            365  \n",
       "Cozy Entire Floor of Brownstone                                194  \n",
       "Entire Apt: Spacious Studio/Loft by central park                 0  \n",
       "Large Cozy 1 BR Apartment In Midtown East                      129  \n",
       "BlissArtsSpace!                                                  0  \n",
       "Large Furnished Room Near B'way                                220  \n",
       "Cozy Clean Guest Room - Family Apt                               0  \n",
       "Cute & Cozy Lower East Side 1 bdrm                             188  "
      ]
     },
     "execution_count": 30,
     "metadata": {},
     "output_type": "execute_result"
    }
   ],
   "source": [
    "nycdata = pd.read_csv(\"file:///Users/kristenkelly/Desktop/CEL%20data/AB_NYC_2019.csv\", index_col =0)\n",
    "nycdata.set_index(\"name\", inplace = True)\n",
    "print(nycdata.drop('THE VILLAGE OF HARLEM....NEW YORK !'))\n",
    "nycdata.head(10)\n"
   ]
  },
  {
   "cell_type": "code",
   "execution_count": 27,
   "metadata": {},
   "outputs": [
    {
     "data": {
      "text/plain": [
       "<seaborn.axisgrid.FacetGrid at 0x7fd3bc76bf50>"
      ]
     },
     "execution_count": 27,
     "metadata": {},
     "output_type": "execute_result"
    },
    {
     "data": {
      "image/png": "[encoded data removed]",
      "text/plain": [
       "<Figure size 360x360 with 1 Axes>"
      ]
     },
     "metadata": {
      "needs_background": "light"
     },
     "output_type": "display_data"
    }
   ],
   "source": [
    "import seaborn as sns \n",
    "sns.lmplot(x='price', y='minimum_nights', data=nycdata)"
   ]
  },
  {
   "cell_type": "code",
   "execution_count": 148,
   "metadata": {},
   "outputs": [
    {
     "data": {
      "image/png": "[encoded data removed]",
      "text/plain": [
       "<Figure size 432x288 with 1 Axes>"
      ]
     },
     "metadata": {
      "needs_background": "light"
     },
     "output_type": "display_data"
    }
   ],
   "source": [
    "sns.boxenplot(y='price', data=nycdata, palette='Blues_d')\n",
    "plt.show()"
   ]
  },
  {
   "cell_type": "markdown",
   "metadata": {},
   "source": [
    "## Problem 7\n",
    "1. Choose a dataset of your choice from the following website: https://corgis-edu.github.io/corgis/json/.\n",
    "2. Create a Pandas Dataframe of your preferred dataset in JSON format using the dataset's link (don't download the dataset) and display the first 10 rows of the Pandas Dataframe.\n",
    "3. Use ***matplotlib*** and plot *5* different graphs."
   ]
  },
  {
   "cell_type": "code",
   "execution_count": 124,
   "metadata": {},
   "outputs": [
    {
     "data": {
      "text/html": [
       "<div>\n",
       "<style scoped>\n",
       "    .dataframe tbody tr th:only-of-type {\n",
       "        vertical-align: middle;\n",
       "    }\n",
       "\n",
       "    .dataframe tbody tr th {\n",
       "        vertical-align: top;\n",
       "    }\n",
       "\n",
       "    .dataframe thead th {\n",
       "        text-align: right;\n",
       "    }\n",
       "</style>\n",
       "<table border=\"1\" class=\"dataframe\">\n",
       "  <thead>\n",
       "    <tr style=\"text-align: right;\">\n",
       "      <th></th>\n",
       "      <th>name</th>\n",
       "      <th>rank</th>\n",
       "      <th>year</th>\n",
       "      <th>company</th>\n",
       "      <th>demographics</th>\n",
       "      <th>location</th>\n",
       "      <th>wealth</th>\n",
       "    </tr>\n",
       "  </thead>\n",
       "  <tbody>\n",
       "    <tr>\n",
       "      <th>0</th>\n",
       "      <td>Bill Gates</td>\n",
       "      <td>1</td>\n",
       "      <td>1996</td>\n",
       "      <td>{'founded': 1975, 'name': 'Microsoft', 'relati...</td>\n",
       "      <td>{'age': 40, 'gender': 'male'}</td>\n",
       "      <td>{'citizenship': 'United States', 'country code...</td>\n",
       "      <td>{'type': 'founder non-finance', 'worth in bill...</td>\n",
       "    </tr>\n",
       "    <tr>\n",
       "      <th>1</th>\n",
       "      <td>Bill Gates</td>\n",
       "      <td>1</td>\n",
       "      <td>2001</td>\n",
       "      <td>{'founded': 1975, 'name': 'Microsoft', 'relati...</td>\n",
       "      <td>{'age': 45, 'gender': 'male'}</td>\n",
       "      <td>{'citizenship': 'United States', 'country code...</td>\n",
       "      <td>{'type': 'founder non-finance', 'worth in bill...</td>\n",
       "    </tr>\n",
       "    <tr>\n",
       "      <th>2</th>\n",
       "      <td>Bill Gates</td>\n",
       "      <td>1</td>\n",
       "      <td>2014</td>\n",
       "      <td>{'founded': 1975, 'name': 'Microsoft', 'relati...</td>\n",
       "      <td>{'age': 58, 'gender': 'male'}</td>\n",
       "      <td>{'citizenship': 'United States', 'country code...</td>\n",
       "      <td>{'type': 'founder non-finance', 'worth in bill...</td>\n",
       "    </tr>\n",
       "    <tr>\n",
       "      <th>3</th>\n",
       "      <td>Warren Buffett</td>\n",
       "      <td>2</td>\n",
       "      <td>1996</td>\n",
       "      <td>{'founded': 1962, 'name': 'Berkshire Hathaway'...</td>\n",
       "      <td>{'age': 65, 'gender': 'male'}</td>\n",
       "      <td>{'citizenship': 'United States', 'country code...</td>\n",
       "      <td>{'type': 'founder non-finance', 'worth in bill...</td>\n",
       "    </tr>\n",
       "    <tr>\n",
       "      <th>4</th>\n",
       "      <td>Warren Buffett</td>\n",
       "      <td>2</td>\n",
       "      <td>2001</td>\n",
       "      <td>{'founded': 1962, 'name': 'Berkshire Hathaway'...</td>\n",
       "      <td>{'age': 70, 'gender': 'male'}</td>\n",
       "      <td>{'citizenship': 'United States', 'country code...</td>\n",
       "      <td>{'type': 'founder non-finance', 'worth in bill...</td>\n",
       "    </tr>\n",
       "    <tr>\n",
       "      <th>5</th>\n",
       "      <td>Carlos Slim Helu</td>\n",
       "      <td>2</td>\n",
       "      <td>2014</td>\n",
       "      <td>{'founded': 1990, 'name': 'Telmex', 'relations...</td>\n",
       "      <td>{'age': 74, 'gender': 'male'}</td>\n",
       "      <td>{'citizenship': 'Mexico', 'country code': 'MEX...</td>\n",
       "      <td>{'type': 'privatized and resources', 'worth in...</td>\n",
       "    </tr>\n",
       "    <tr>\n",
       "      <th>6</th>\n",
       "      <td>Oeri Hoffman and Sacher</td>\n",
       "      <td>3</td>\n",
       "      <td>1996</td>\n",
       "      <td>{'founded': 1896, 'name': 'F. Hoffmann-La Roch...</td>\n",
       "      <td>{'age': 0, 'gender': ''}</td>\n",
       "      <td>{'citizenship': 'Switzerland', 'country code':...</td>\n",
       "      <td>{'type': 'inherited', 'worth in billions': 13....</td>\n",
       "    </tr>\n",
       "    <tr>\n",
       "      <th>7</th>\n",
       "      <td>Paul Allen</td>\n",
       "      <td>3</td>\n",
       "      <td>2001</td>\n",
       "      <td>{'founded': 1975, 'name': 'Microsoft', 'relati...</td>\n",
       "      <td>{'age': 48, 'gender': 'male'}</td>\n",
       "      <td>{'citizenship': 'United States', 'country code...</td>\n",
       "      <td>{'type': 'founder non-finance', 'worth in bill...</td>\n",
       "    </tr>\n",
       "    <tr>\n",
       "      <th>8</th>\n",
       "      <td>Amancio Ortega</td>\n",
       "      <td>3</td>\n",
       "      <td>2014</td>\n",
       "      <td>{'founded': 1975, 'name': 'Zara', 'relationshi...</td>\n",
       "      <td>{'age': 77, 'gender': 'male'}</td>\n",
       "      <td>{'citizenship': 'Spain', 'country code': 'ESP'...</td>\n",
       "      <td>{'type': 'founder non-finance', 'worth in bill...</td>\n",
       "    </tr>\n",
       "    <tr>\n",
       "      <th>9</th>\n",
       "      <td>Lee Shau Kee</td>\n",
       "      <td>4</td>\n",
       "      <td>1996</td>\n",
       "      <td>{'founded': 1976, 'name': 'Henderson Land Deve...</td>\n",
       "      <td>{'age': 68, 'gender': 'male'}</td>\n",
       "      <td>{'citizenship': 'Hong Kong', 'country code': '...</td>\n",
       "      <td>{'type': 'self-made finance', 'worth in billio...</td>\n",
       "    </tr>\n",
       "  </tbody>\n",
       "</table>\n",
       "</div>"
      ],
      "text/plain": [
       "                      name  rank  year  \\\n",
       "0               Bill Gates     1  1996   \n",
       "1               Bill Gates     1  2001   \n",
       "2               Bill Gates     1  2014   \n",
       "3           Warren Buffett     2  1996   \n",
       "4           Warren Buffett     2  2001   \n",
       "5         Carlos Slim Helu     2  2014   \n",
       "6  Oeri Hoffman and Sacher     3  1996   \n",
       "7               Paul Allen     3  2001   \n",
       "8           Amancio Ortega     3  2014   \n",
       "9             Lee Shau Kee     4  1996   \n",
       "\n",
       "                                             company  \\\n",
       "0  {'founded': 1975, 'name': 'Microsoft', 'relati...   \n",
       "1  {'founded': 1975, 'name': 'Microsoft', 'relati...   \n",
       "2  {'founded': 1975, 'name': 'Microsoft', 'relati...   \n",
       "3  {'founded': 1962, 'name': 'Berkshire Hathaway'...   \n",
       "4  {'founded': 1962, 'name': 'Berkshire Hathaway'...   \n",
       "5  {'founded': 1990, 'name': 'Telmex', 'relations...   \n",
       "6  {'founded': 1896, 'name': 'F. Hoffmann-La Roch...   \n",
       "7  {'founded': 1975, 'name': 'Microsoft', 'relati...   \n",
       "8  {'founded': 1975, 'name': 'Zara', 'relationshi...   \n",
       "9  {'founded': 1976, 'name': 'Henderson Land Deve...   \n",
       "\n",
       "                    demographics  \\\n",
       "0  {'age': 40, 'gender': 'male'}   \n",
       "1  {'age': 45, 'gender': 'male'}   \n",
       "2  {'age': 58, 'gender': 'male'}   \n",
       "3  {'age': 65, 'gender': 'male'}   \n",
       "4  {'age': 70, 'gender': 'male'}   \n",
       "5  {'age': 74, 'gender': 'male'}   \n",
       "6       {'age': 0, 'gender': ''}   \n",
       "7  {'age': 48, 'gender': 'male'}   \n",
       "8  {'age': 77, 'gender': 'male'}   \n",
       "9  {'age': 68, 'gender': 'male'}   \n",
       "\n",
       "                                            location  \\\n",
       "0  {'citizenship': 'United States', 'country code...   \n",
       "1  {'citizenship': 'United States', 'country code...   \n",
       "2  {'citizenship': 'United States', 'country code...   \n",
       "3  {'citizenship': 'United States', 'country code...   \n",
       "4  {'citizenship': 'United States', 'country code...   \n",
       "5  {'citizenship': 'Mexico', 'country code': 'MEX...   \n",
       "6  {'citizenship': 'Switzerland', 'country code':...   \n",
       "7  {'citizenship': 'United States', 'country code...   \n",
       "8  {'citizenship': 'Spain', 'country code': 'ESP'...   \n",
       "9  {'citizenship': 'Hong Kong', 'country code': '...   \n",
       "\n",
       "                                              wealth  \n",
       "0  {'type': 'founder non-finance', 'worth in bill...  \n",
       "1  {'type': 'founder non-finance', 'worth in bill...  \n",
       "2  {'type': 'founder non-finance', 'worth in bill...  \n",
       "3  {'type': 'founder non-finance', 'worth in bill...  \n",
       "4  {'type': 'founder non-finance', 'worth in bill...  \n",
       "5  {'type': 'privatized and resources', 'worth in...  \n",
       "6  {'type': 'inherited', 'worth in billions': 13....  \n",
       "7  {'type': 'founder non-finance', 'worth in bill...  \n",
       "8  {'type': 'founder non-finance', 'worth in bill...  \n",
       "9  {'type': 'self-made finance', 'worth in billio...  "
      ]
     },
     "execution_count": 124,
     "metadata": {},
     "output_type": "execute_result"
    }
   ],
   "source": [
    "# Write your code for Problem 7 over here\n",
    "import pandas as pd\n",
    "import matplotlib.pyplot as plt\n",
    "import seaborn as sns \n",
    "import json\n",
    "import requests\n",
    "import numpy as np\n",
    "\n",
    "cons_df = pd.read_json('https://corgis-edu.github.io/corgis/datasets/json/billionaires/billionaires.json')\n",
    "cons_df.head(10)\n",
    "\n"
   ]
  },
  {
   "cell_type": "code",
   "execution_count": 125,
   "metadata": {
    "scrolled": true
   },
   "outputs": [
    {
     "data": {
      "text/html": [
       "<div>\n",
       "<style scoped>\n",
       "    .dataframe tbody tr th:only-of-type {\n",
       "        vertical-align: middle;\n",
       "    }\n",
       "\n",
       "    .dataframe tbody tr th {\n",
       "        vertical-align: top;\n",
       "    }\n",
       "\n",
       "    .dataframe thead th {\n",
       "        text-align: right;\n",
       "    }\n",
       "</style>\n",
       "<table border=\"1\" class=\"dataframe\">\n",
       "  <thead>\n",
       "    <tr style=\"text-align: right;\">\n",
       "      <th></th>\n",
       "      <th>name</th>\n",
       "      <th>rank</th>\n",
       "      <th>year</th>\n",
       "      <th>company</th>\n",
       "      <th>demographics</th>\n",
       "      <th>location</th>\n",
       "      <th>wealth</th>\n",
       "    </tr>\n",
       "  </thead>\n",
       "  <tbody>\n",
       "    <tr>\n",
       "      <th>0</th>\n",
       "      <td>Bill Gates</td>\n",
       "      <td>1</td>\n",
       "      <td>1996</td>\n",
       "      <td>{'founded': 1975, 'name': 'Microsoft', 'relati...</td>\n",
       "      <td>{'age': 40, 'gender': 'male'}</td>\n",
       "      <td>{'citizenship': 'United States', 'country code...</td>\n",
       "      <td>{'type': 'founder non-finance', 'worth in bill...</td>\n",
       "    </tr>\n",
       "    <tr>\n",
       "      <th>1</th>\n",
       "      <td>Bill Gates</td>\n",
       "      <td>1</td>\n",
       "      <td>2001</td>\n",
       "      <td>{'founded': 1975, 'name': 'Microsoft', 'relati...</td>\n",
       "      <td>{'age': 45, 'gender': 'male'}</td>\n",
       "      <td>{'citizenship': 'United States', 'country code...</td>\n",
       "      <td>{'type': 'founder non-finance', 'worth in bill...</td>\n",
       "    </tr>\n",
       "    <tr>\n",
       "      <th>2</th>\n",
       "      <td>Bill Gates</td>\n",
       "      <td>1</td>\n",
       "      <td>2014</td>\n",
       "      <td>{'founded': 1975, 'name': 'Microsoft', 'relati...</td>\n",
       "      <td>{'age': 58, 'gender': 'male'}</td>\n",
       "      <td>{'citizenship': 'United States', 'country code...</td>\n",
       "      <td>{'type': 'founder non-finance', 'worth in bill...</td>\n",
       "    </tr>\n",
       "    <tr>\n",
       "      <th>3</th>\n",
       "      <td>Warren Buffett</td>\n",
       "      <td>2</td>\n",
       "      <td>1996</td>\n",
       "      <td>{'founded': 1962, 'name': 'Berkshire Hathaway'...</td>\n",
       "      <td>{'age': 65, 'gender': 'male'}</td>\n",
       "      <td>{'citizenship': 'United States', 'country code...</td>\n",
       "      <td>{'type': 'founder non-finance', 'worth in bill...</td>\n",
       "    </tr>\n",
       "    <tr>\n",
       "      <th>4</th>\n",
       "      <td>Warren Buffett</td>\n",
       "      <td>2</td>\n",
       "      <td>2001</td>\n",
       "      <td>{'founded': 1962, 'name': 'Berkshire Hathaway'...</td>\n",
       "      <td>{'age': 70, 'gender': 'male'}</td>\n",
       "      <td>{'citizenship': 'United States', 'country code...</td>\n",
       "      <td>{'type': 'founder non-finance', 'worth in bill...</td>\n",
       "    </tr>\n",
       "    <tr>\n",
       "      <th>...</th>\n",
       "      <td>...</td>\n",
       "      <td>...</td>\n",
       "      <td>...</td>\n",
       "      <td>...</td>\n",
       "      <td>...</td>\n",
       "      <td>...</td>\n",
       "      <td>...</td>\n",
       "    </tr>\n",
       "    <tr>\n",
       "      <th>2609</th>\n",
       "      <td>Wu Chung-Yi</td>\n",
       "      <td>1565</td>\n",
       "      <td>2014</td>\n",
       "      <td>{'founded': 1991, 'name': 'Tingyi', 'relations...</td>\n",
       "      <td>{'age': 55, 'gender': 'male'}</td>\n",
       "      <td>{'citizenship': 'Taiwan', 'country code': 'Tai...</td>\n",
       "      <td>{'type': 'executive', 'worth in billions': 1.0...</td>\n",
       "    </tr>\n",
       "    <tr>\n",
       "      <th>2610</th>\n",
       "      <td>Wu Xiong</td>\n",
       "      <td>1565</td>\n",
       "      <td>2014</td>\n",
       "      <td>{'founded': 1999, 'name': 'Biostime Internatio...</td>\n",
       "      <td>{'age': 0, 'gender': 'male'}</td>\n",
       "      <td>{'citizenship': 'China', 'country code': 'CHN'...</td>\n",
       "      <td>{'type': 'executive', 'worth in billions': 1.0...</td>\n",
       "    </tr>\n",
       "    <tr>\n",
       "      <th>2611</th>\n",
       "      <td>Yang Keng</td>\n",
       "      <td>1565</td>\n",
       "      <td>2014</td>\n",
       "      <td>{'founded': 0, 'name': 'Blue Ray Corp', 'relat...</td>\n",
       "      <td>{'age': 53, 'gender': 'male'}</td>\n",
       "      <td>{'citizenship': 'China', 'country code': 'CHN'...</td>\n",
       "      <td>{'type': 'self-made finance', 'worth in billio...</td>\n",
       "    </tr>\n",
       "    <tr>\n",
       "      <th>2612</th>\n",
       "      <td>Zdenek Bakala</td>\n",
       "      <td>1565</td>\n",
       "      <td>2014</td>\n",
       "      <td>{'founded': 1994, 'name': 'Patria Finance', 'r...</td>\n",
       "      <td>{'age': 53, 'gender': 'male'}</td>\n",
       "      <td>{'citizenship': 'Czech Republic', 'country cod...</td>\n",
       "      <td>{'type': 'privatized and resources', 'worth in...</td>\n",
       "    </tr>\n",
       "    <tr>\n",
       "      <th>2613</th>\n",
       "      <td>Zhu Wenchen</td>\n",
       "      <td>1565</td>\n",
       "      <td>2014</td>\n",
       "      <td>{'founded': 1999, 'name': 'Furen Pharmaceutica...</td>\n",
       "      <td>{'age': 48, 'gender': 'male'}</td>\n",
       "      <td>{'citizenship': 'China', 'country code': 'CHN'...</td>\n",
       "      <td>{'type': 'executive', 'worth in billions': 1.0...</td>\n",
       "    </tr>\n",
       "  </tbody>\n",
       "</table>\n",
       "<p>2614 rows × 7 columns</p>\n",
       "</div>"
      ],
      "text/plain": [
       "                name  rank  year  \\\n",
       "0         Bill Gates     1  1996   \n",
       "1         Bill Gates     1  2001   \n",
       "2         Bill Gates     1  2014   \n",
       "3     Warren Buffett     2  1996   \n",
       "4     Warren Buffett     2  2001   \n",
       "...              ...   ...   ...   \n",
       "2609     Wu Chung-Yi  1565  2014   \n",
       "2610        Wu Xiong  1565  2014   \n",
       "2611       Yang Keng  1565  2014   \n",
       "2612   Zdenek Bakala  1565  2014   \n",
       "2613     Zhu Wenchen  1565  2014   \n",
       "\n",
       "                                                company  \\\n",
       "0     {'founded': 1975, 'name': 'Microsoft', 'relati...   \n",
       "1     {'founded': 1975, 'name': 'Microsoft', 'relati...   \n",
       "2     {'founded': 1975, 'name': 'Microsoft', 'relati...   \n",
       "3     {'founded': 1962, 'name': 'Berkshire Hathaway'...   \n",
       "4     {'founded': 1962, 'name': 'Berkshire Hathaway'...   \n",
       "...                                                 ...   \n",
       "2609  {'founded': 1991, 'name': 'Tingyi', 'relations...   \n",
       "2610  {'founded': 1999, 'name': 'Biostime Internatio...   \n",
       "2611  {'founded': 0, 'name': 'Blue Ray Corp', 'relat...   \n",
       "2612  {'founded': 1994, 'name': 'Patria Finance', 'r...   \n",
       "2613  {'founded': 1999, 'name': 'Furen Pharmaceutica...   \n",
       "\n",
       "                       demographics  \\\n",
       "0     {'age': 40, 'gender': 'male'}   \n",
       "1     {'age': 45, 'gender': 'male'}   \n",
       "2     {'age': 58, 'gender': 'male'}   \n",
       "3     {'age': 65, 'gender': 'male'}   \n",
       "4     {'age': 70, 'gender': 'male'}   \n",
       "...                             ...   \n",
       "2609  {'age': 55, 'gender': 'male'}   \n",
       "2610   {'age': 0, 'gender': 'male'}   \n",
       "2611  {'age': 53, 'gender': 'male'}   \n",
       "2612  {'age': 53, 'gender': 'male'}   \n",
       "2613  {'age': 48, 'gender': 'male'}   \n",
       "\n",
       "                                               location  \\\n",
       "0     {'citizenship': 'United States', 'country code...   \n",
       "1     {'citizenship': 'United States', 'country code...   \n",
       "2     {'citizenship': 'United States', 'country code...   \n",
       "3     {'citizenship': 'United States', 'country code...   \n",
       "4     {'citizenship': 'United States', 'country code...   \n",
       "...                                                 ...   \n",
       "2609  {'citizenship': 'Taiwan', 'country code': 'Tai...   \n",
       "2610  {'citizenship': 'China', 'country code': 'CHN'...   \n",
       "2611  {'citizenship': 'China', 'country code': 'CHN'...   \n",
       "2612  {'citizenship': 'Czech Republic', 'country cod...   \n",
       "2613  {'citizenship': 'China', 'country code': 'CHN'...   \n",
       "\n",
       "                                                 wealth  \n",
       "0     {'type': 'founder non-finance', 'worth in bill...  \n",
       "1     {'type': 'founder non-finance', 'worth in bill...  \n",
       "2     {'type': 'founder non-finance', 'worth in bill...  \n",
       "3     {'type': 'founder non-finance', 'worth in bill...  \n",
       "4     {'type': 'founder non-finance', 'worth in bill...  \n",
       "...                                                 ...  \n",
       "2609  {'type': 'executive', 'worth in billions': 1.0...  \n",
       "2610  {'type': 'executive', 'worth in billions': 1.0...  \n",
       "2611  {'type': 'self-made finance', 'worth in billio...  \n",
       "2612  {'type': 'privatized and resources', 'worth in...  \n",
       "2613  {'type': 'executive', 'worth in billions': 1.0...  \n",
       "\n",
       "[2614 rows x 7 columns]"
      ]
     },
     "execution_count": 125,
     "metadata": {},
     "output_type": "execute_result"
    }
   ],
   "source": [
    "cons_dict = requests.get('https://corgis-edu.github.io/corgis/datasets/json/billionaires/billionaires.json').json()\n",
    "\n",
    "plot_dict = {}\n",
    "\n",
    "for data in cons_dict:\n",
    "  if data['rank'] not in plot_dict:\n",
    "    plot_dict[data['rank']] = []\n",
    "  plot_dict[data['rank']].append(data['demographics'])\n",
    "\n",
    "plot_df = pd.DataFrame(cons_dict)\n",
    "plot_df\n"
   ]
  },
  {
   "cell_type": "code",
   "execution_count": 130,
   "metadata": {},
   "outputs": [
    {
     "data": {
      "image/png": "[encoded data removed]",
      "text/plain": [
       "<Figure size 432x288 with 1 Axes>"
      ]
     },
     "metadata": {
      "needs_background": "light"
     },
     "output_type": "display_data"
    },
    {
     "data": {
      "image/png": "[encoded data removed]",
      "text/plain": [
       "<Figure size 432x288 with 1 Axes>"
      ]
     },
     "metadata": {
      "needs_background": "light"
     },
     "output_type": "display_data"
    },
    {
     "data": {
      "image/png": "[encoded data removed]",
      "text/plain": [
       "<Figure size 432x288 with 1 Axes>"
      ]
     },
     "metadata": {
      "needs_background": "light"
     },
     "output_type": "display_data"
    },
    {
     "data": {
      "image/png": "[encoded data removed]",
      "text/plain": [
       "<Figure size 432x288 with 1 Axes>"
      ]
     },
     "metadata": {
      "needs_background": "light"
     },
     "output_type": "display_data"
    },
    {
     "data": {
      "image/png": "[encoded data removed]",
      "text/plain": [
       "<Figure size 432x288 with 1 Axes>"
      ]
     },
     "metadata": {
      "needs_background": "light"
     },
     "output_type": "display_data"
    }
   ],
   "source": [
    "sns.boxenplot(x='year', y = 'rank', data=plot_df, palette='Blues_d')\n",
    "plt.show()\n",
    "sns.swarmplot(x='year', y = 'rank', data=plot_df, palette='Greens_d')\n",
    "plt.show()\n",
    "sns.boxplot(x='year', y = 'rank', data=plot_df, palette='Greens_d')\n",
    "plt.show()\n",
    "sns.violinplot(x='year', y = 'rank', data=plot_df, palette='Greens_d')\n",
    "plt.show()\n",
    "sns.stripplot(x='year', y = 'rank', data=plot_df, palette='Greens_d')\n",
    "plt.show()"
   ]
  },
  {
   "cell_type": "markdown",
   "metadata": {},
   "source": [
    "## Problem 8\n",
    "### You are given a positive integer *N*.\n",
    "### Your task is to print a palindromic triangle of size *N*.\n",
    "### \n",
    "### For example, a palindromic triangle of size *5* is:\n",
    "### \n",
    "## 1\n",
    "## 121\n",
    "## 12321\n",
    "## 1234321\n",
    "## 123454321\n",
    "### \n",
    "### Note: You can't use string-related functions and you can only use one for-loop"
   ]
  },
  {
   "cell_type": "code",
   "execution_count": 134,
   "metadata": {},
   "outputs": [
    {
     "name": "stdout",
     "output_type": "stream",
     "text": [
      "[1]\n",
      "[1, 2, 1]\n",
      "[1, 2, 3, 2, 1]\n",
      "[1, 2, 3, 4, 3, 2, 1]\n",
      "[1, 2, 3, 4, 5, 4, 3, 2, 1]\n"
     ]
    }
   ],
   "source": [
    "# Write your code for Problem 8 over here\n",
    "\n",
    "N = 5\n",
    "arr = []\n",
    "for i in range(1,N+1):\n",
    "    arr.append(i)\n",
    "    print(arr+arr[-2: :-1])\n"
   ]
  },
  {
   "cell_type": "markdown",
   "metadata": {},
   "source": [
    "## Problem 9\n",
    "### Given two lists. Create a third list by picking an odd-index element from the first list and even index elements from second."
   ]
  },
  {
   "cell_type": "code",
   "execution_count": 62,
   "metadata": {},
   "outputs": [
    {
     "name": "stdout",
     "output_type": "stream",
     "text": [
      "Odd lists: [1, 5, 7, 9]\n",
      "Even lists: [2, 8, 8]\n"
     ]
    },
    {
     "data": {
      "text/plain": [
       "[1, 5, 7, 9, 2, 8, 8]"
      ]
     },
     "execution_count": 62,
     "metadata": {},
     "output_type": "execute_result"
    }
   ],
   "source": [
    "# Write your code for Problem 9 over here\n",
    "list1 = [1,2,5,7,8,8,9]\n",
    "list2 = [3,2,2,4,5,6,6]\n",
    "\n",
    "def Split(list1): \n",
    "    ev_li = [ele for ele in list1 if ele%2 ==0] \n",
    "    od_li = [ele for ele in list1 if ele%2 !=0]  \n",
    "    print(\"Odd lists:\", od_li) \n",
    "\n",
    "listeven = Split(list1) \n",
    "\n",
    "def Split(list2): \n",
    "    ev_li = [ele for ele in list1 if ele%2 ==0] \n",
    "    od_li = [ele for ele in list1 if ele%2 !=0] \n",
    "    print(\"Even lists:\", ev_li) \n",
    "\n",
    "listodd = Split(list2) \n",
    "\n",
    "list3 = [1,5,7,9,2,8,8]\n",
    "list3"
   ]
  },
  {
   "cell_type": "markdown",
   "metadata": {},
   "source": [
    "## Problem 10\n",
    "### Given a list, count the occurrence of each element and create a dictionary to show the count of each element."
   ]
  },
  {
   "cell_type": "code",
   "execution_count": 35,
   "metadata": {},
   "outputs": [
    {
     "name": "stdout",
     "output_type": "stream",
     "text": [
      " 1 :  4\n",
      " 5 :  2\n",
      " 3 :  3\n",
      " 4 :  1\n",
      " 2 :  1\n"
     ]
    },
    {
     "data": {
      "text/plain": [
       "{1: 4, 5: 2, 3: 3, 4: 1, 2: 1}"
      ]
     },
     "execution_count": 35,
     "metadata": {},
     "output_type": "execute_result"
    }
   ],
   "source": [
    "# Write your code for Problem 10 over here\n",
    "def CountFrequency(list): \n",
    "    \n",
    "    freq = {} \n",
    "    for items in list: \n",
    "        freq[items] = list.count(items) \n",
    "      \n",
    "    for key, value in freq.items(): \n",
    "        print (\"% d : % d\"%(key, value)) \n",
    "  \n",
    "if __name__ == \"__main__\":  \n",
    "    list =[1, 1, 5, 5, 3, 1, 3, 3, 1, 4, 2] \n",
    "    CountFrequency(list) \n",
    "    \n",
    "    \n",
    "dict = {1:4, 5:2, 3:3, 4:1, 2:1}\n",
    "dict"
   ]
  },
  {
   "cell_type": "markdown",
   "metadata": {},
   "source": [
    "## Problem 11\n",
    "### Given two lists, convert them into a dictionary. The first list will represent the \"keys\", and the second list will represent the \"values\""
   ]
  },
  {
   "cell_type": "code",
   "execution_count": 12,
   "metadata": {},
   "outputs": [
    {
     "name": "stdout",
     "output_type": "stream",
     "text": [
      "{'a': 1, 'b': 2, 'c': 3}\n"
     ]
    }
   ],
   "source": [
    "# Write your code for Problem 11 over here\n",
    "keys = [\"a\", \"b\", \"c\"]\n",
    "values = [1,2,3]\n",
    "\n",
    "res = {}\n",
    "for key in keys: \n",
    "    for value in values: \n",
    "        res[key] = value \n",
    "        values.remove(value) \n",
    "        break \n",
    "print(str(res))"
   ]
  },
  {
   "cell_type": "markdown",
   "metadata": {},
   "source": [
    "## Problem 12\n",
    "### Merge 2 dictionaries into 1 dictionary"
   ]
  },
  {
   "cell_type": "code",
   "execution_count": 17,
   "metadata": {},
   "outputs": [
    {
     "name": "stdout",
     "output_type": "stream",
     "text": [
      "None\n",
      "{'d': 6, 'c': 4, 'a': 10, 'b': 8}\n"
     ]
    }
   ],
   "source": [
    "# Write your code for Problem 12 over here\n",
    "def Merge(dict1, dict2): \n",
    "    return(dict2.update(dict1)) \n",
    "      \n",
    "dict1 = {'a': 10, 'b': 8} \n",
    "dict2 = {'d': 6, 'c': 4} \n",
    "\n",
    "print(Merge(dict1, dict2))\n",
    "print(dict2)\n"
   ]
  },
  {
   "cell_type": "markdown",
   "metadata": {},
   "source": [
    "## Problem 13\n",
    "### Using *numpy*, create a 4 by 2 integer array and print its attributes (the shape of the array and the array dimensions)"
   ]
  },
  {
   "cell_type": "code",
   "execution_count": 6,
   "metadata": {},
   "outputs": [
    {
     "data": {
      "text/plain": [
       "array([[0, 1],\n",
       "       [2, 3],\n",
       "       [4, 5],\n",
       "       [6, 7]])"
      ]
     },
     "execution_count": 6,
     "metadata": {},
     "output_type": "execute_result"
    }
   ],
   "source": [
    "# Write your code for Problem 13 over here\n",
    "import numpy as np\n",
    "array = np.arange(8).reshape(4, 2)\n",
    "array"
   ]
  },
  {
   "cell_type": "code",
   "execution_count": 7,
   "metadata": {},
   "outputs": [
    {
     "data": {
      "text/plain": [
       "(4, 2)"
      ]
     },
     "execution_count": 7,
     "metadata": {},
     "output_type": "execute_result"
    }
   ],
   "source": [
    "array.shape"
   ]
  },
  {
   "cell_type": "markdown",
   "metadata": {},
   "source": [
    "# Problem 14 - Problem 25"
   ]
  },
  {
   "cell_type": "markdown",
   "metadata": {},
   "source": [
    "## Problem 14\n",
    "#### Create a Pandas Dataframe using the CSV file provided at this link: https://pynative.com/wp-content/uploads/2019/01/company_sales_data.csv\n",
    "#### Also, display the first 20 rows of the dataframe\n",
    "#### Note: Don't download the CSV File, and you can use either *matplotlib* or *seaborn* for these problems"
   ]
  },
  {
   "cell_type": "code",
   "execution_count": 4,
   "metadata": {},
   "outputs": [
    {
     "data": {
      "text/html": [
       "<div>\n",
       "<style scoped>\n",
       "    .dataframe tbody tr th:only-of-type {\n",
       "        vertical-align: middle;\n",
       "    }\n",
       "\n",
       "    .dataframe tbody tr th {\n",
       "        vertical-align: top;\n",
       "    }\n",
       "\n",
       "    .dataframe thead th {\n",
       "        text-align: right;\n",
       "    }\n",
       "</style>\n",
       "<table border=\"1\" class=\"dataframe\">\n",
       "  <thead>\n",
       "    <tr style=\"text-align: right;\">\n",
       "      <th></th>\n",
       "      <th>month_number</th>\n",
       "      <th>facecream</th>\n",
       "      <th>facewash</th>\n",
       "      <th>toothpaste</th>\n",
       "      <th>bathingsoap</th>\n",
       "      <th>shampoo</th>\n",
       "      <th>moisturizer</th>\n",
       "      <th>total_units</th>\n",
       "      <th>total_profit</th>\n",
       "    </tr>\n",
       "  </thead>\n",
       "  <tbody>\n",
       "    <tr>\n",
       "      <th>0</th>\n",
       "      <td>1</td>\n",
       "      <td>2500</td>\n",
       "      <td>1500</td>\n",
       "      <td>5200</td>\n",
       "      <td>9200</td>\n",
       "      <td>1200</td>\n",
       "      <td>1500</td>\n",
       "      <td>21100</td>\n",
       "      <td>211000</td>\n",
       "    </tr>\n",
       "    <tr>\n",
       "      <th>1</th>\n",
       "      <td>2</td>\n",
       "      <td>2630</td>\n",
       "      <td>1200</td>\n",
       "      <td>5100</td>\n",
       "      <td>6100</td>\n",
       "      <td>2100</td>\n",
       "      <td>1200</td>\n",
       "      <td>18330</td>\n",
       "      <td>183300</td>\n",
       "    </tr>\n",
       "    <tr>\n",
       "      <th>2</th>\n",
       "      <td>3</td>\n",
       "      <td>2140</td>\n",
       "      <td>1340</td>\n",
       "      <td>4550</td>\n",
       "      <td>9550</td>\n",
       "      <td>3550</td>\n",
       "      <td>1340</td>\n",
       "      <td>22470</td>\n",
       "      <td>224700</td>\n",
       "    </tr>\n",
       "    <tr>\n",
       "      <th>3</th>\n",
       "      <td>4</td>\n",
       "      <td>3400</td>\n",
       "      <td>1130</td>\n",
       "      <td>5870</td>\n",
       "      <td>8870</td>\n",
       "      <td>1870</td>\n",
       "      <td>1130</td>\n",
       "      <td>22270</td>\n",
       "      <td>222700</td>\n",
       "    </tr>\n",
       "    <tr>\n",
       "      <th>4</th>\n",
       "      <td>5</td>\n",
       "      <td>3600</td>\n",
       "      <td>1740</td>\n",
       "      <td>4560</td>\n",
       "      <td>7760</td>\n",
       "      <td>1560</td>\n",
       "      <td>1740</td>\n",
       "      <td>20960</td>\n",
       "      <td>209600</td>\n",
       "    </tr>\n",
       "    <tr>\n",
       "      <th>5</th>\n",
       "      <td>6</td>\n",
       "      <td>2760</td>\n",
       "      <td>1555</td>\n",
       "      <td>4890</td>\n",
       "      <td>7490</td>\n",
       "      <td>1890</td>\n",
       "      <td>1555</td>\n",
       "      <td>20140</td>\n",
       "      <td>201400</td>\n",
       "    </tr>\n",
       "    <tr>\n",
       "      <th>6</th>\n",
       "      <td>7</td>\n",
       "      <td>2980</td>\n",
       "      <td>1120</td>\n",
       "      <td>4780</td>\n",
       "      <td>8980</td>\n",
       "      <td>1780</td>\n",
       "      <td>1120</td>\n",
       "      <td>29550</td>\n",
       "      <td>295500</td>\n",
       "    </tr>\n",
       "    <tr>\n",
       "      <th>7</th>\n",
       "      <td>8</td>\n",
       "      <td>3700</td>\n",
       "      <td>1400</td>\n",
       "      <td>5860</td>\n",
       "      <td>9960</td>\n",
       "      <td>2860</td>\n",
       "      <td>1400</td>\n",
       "      <td>36140</td>\n",
       "      <td>361400</td>\n",
       "    </tr>\n",
       "    <tr>\n",
       "      <th>8</th>\n",
       "      <td>9</td>\n",
       "      <td>3540</td>\n",
       "      <td>1780</td>\n",
       "      <td>6100</td>\n",
       "      <td>8100</td>\n",
       "      <td>2100</td>\n",
       "      <td>1780</td>\n",
       "      <td>23400</td>\n",
       "      <td>234000</td>\n",
       "    </tr>\n",
       "    <tr>\n",
       "      <th>9</th>\n",
       "      <td>10</td>\n",
       "      <td>1990</td>\n",
       "      <td>1890</td>\n",
       "      <td>8300</td>\n",
       "      <td>10300</td>\n",
       "      <td>2300</td>\n",
       "      <td>1890</td>\n",
       "      <td>26670</td>\n",
       "      <td>266700</td>\n",
       "    </tr>\n",
       "    <tr>\n",
       "      <th>10</th>\n",
       "      <td>11</td>\n",
       "      <td>2340</td>\n",
       "      <td>2100</td>\n",
       "      <td>7300</td>\n",
       "      <td>13300</td>\n",
       "      <td>2400</td>\n",
       "      <td>2100</td>\n",
       "      <td>41280</td>\n",
       "      <td>412800</td>\n",
       "    </tr>\n",
       "    <tr>\n",
       "      <th>11</th>\n",
       "      <td>12</td>\n",
       "      <td>2900</td>\n",
       "      <td>1760</td>\n",
       "      <td>7400</td>\n",
       "      <td>14400</td>\n",
       "      <td>1800</td>\n",
       "      <td>1760</td>\n",
       "      <td>30020</td>\n",
       "      <td>300200</td>\n",
       "    </tr>\n",
       "  </tbody>\n",
       "</table>\n",
       "</div>"
      ],
      "text/plain": [
       "    month_number  facecream  facewash  toothpaste  bathingsoap  shampoo  \\\n",
       "0              1       2500      1500        5200         9200     1200   \n",
       "1              2       2630      1200        5100         6100     2100   \n",
       "2              3       2140      1340        4550         9550     3550   \n",
       "3              4       3400      1130        5870         8870     1870   \n",
       "4              5       3600      1740        4560         7760     1560   \n",
       "5              6       2760      1555        4890         7490     1890   \n",
       "6              7       2980      1120        4780         8980     1780   \n",
       "7              8       3700      1400        5860         9960     2860   \n",
       "8              9       3540      1780        6100         8100     2100   \n",
       "9             10       1990      1890        8300        10300     2300   \n",
       "10            11       2340      2100        7300        13300     2400   \n",
       "11            12       2900      1760        7400        14400     1800   \n",
       "\n",
       "    moisturizer  total_units  total_profit  \n",
       "0          1500        21100        211000  \n",
       "1          1200        18330        183300  \n",
       "2          1340        22470        224700  \n",
       "3          1130        22270        222700  \n",
       "4          1740        20960        209600  \n",
       "5          1555        20140        201400  \n",
       "6          1120        29550        295500  \n",
       "7          1400        36140        361400  \n",
       "8          1780        23400        234000  \n",
       "9          1890        26670        266700  \n",
       "10         2100        41280        412800  \n",
       "11         1760        30020        300200  "
      ]
     },
     "execution_count": 4,
     "metadata": {},
     "output_type": "execute_result"
    }
   ],
   "source": [
    "# Write your code for Problem 14 over here\n",
    "import pandas as pd\n",
    "companysales = pd.read_csv(\"file:///Users/kristenkelly/Downloads/company_sales_data.csv\")\n",
    "companysales.head(20)"
   ]
  },
  {
   "cell_type": "markdown",
   "metadata": {},
   "source": [
    "## Problem 15\n",
    "### Using a line plot, plot the Month (x-axis) against the Total Profit (y-axis)"
   ]
  },
  {
   "cell_type": "code",
   "execution_count": 14,
   "metadata": {},
   "outputs": [
    {
     "data": {
      "image/png": "[encoded data removed]",
      "text/plain": [
       "<Figure size 432x288 with 1 Axes>"
      ]
     },
     "metadata": {
      "needs_background": "light"
     },
     "output_type": "display_data"
    }
   ],
   "source": [
    "# Write your code for Problem 15 over here\n",
    "import matplotlib.pyplot as plt\n",
    "import pandas as pd\n",
    "companysales = pd.read_csv(\"file:///Users/kristenkelly/Downloads/company_sales_data.csv\")\n",
    "companysales.plot(x = 'month_number', y = 'total_profit')\n",
    "plt.show()\n"
   ]
  },
  {
   "cell_type": "markdown",
   "metadata": {},
   "source": [
    "## Problem 16\n",
    "### Using a line plot, plot the Month (x-axis) against the Total Profit (y-axis) with the following style properties:\n",
    "* Dotted Red Line\n",
    "* The width of the line graph should be 3\n",
    "* Legend should be placed at the bottom right section of the graph\n",
    "* Add a label for the x-axis\n",
    "* Add a label for the y-axis\n",
    "* Add a title\n",
    "* Add a yellow circular marker at each point on the graph"
   ]
  },
  {
   "cell_type": "code",
   "execution_count": 35,
   "metadata": {},
   "outputs": [
    {
     "data": {
      "image/png": "[encoded data removed]",
      "text/plain": [
       "<Figure size 432x288 with 1 Axes>"
      ]
     },
     "metadata": {
      "needs_background": "light"
     },
     "output_type": "display_data"
    }
   ],
   "source": [
    "# Write your code for Problem 16 over here\n",
    "import matplotlib.pyplot as plt\n",
    "import pandas as pd\n",
    "companysales = pd.read_csv(\"file:///Users/kristenkelly/Downloads/company_sales_data.csv\")\n",
    "companysales.plot(x = 'month_number', y = 'total_profit', color = 'red', linestyle='dashed', linewidth=3, marker = \"o\", markerfacecolor= 'yellow')\n",
    "plt.legend(loc='lower right')\n",
    "plt.xlabel(\"Month Number\")\n",
    "plt.ylabel(\"Total Profit\")\n",
    "plt.title(\"Monthly Total Profit\")\n",
    "\n",
    "plt.show()"
   ]
  },
  {
   "cell_type": "markdown",
   "metadata": {},
   "source": [
    "## Problem 17\n",
    "### Display the number of units sold per month for each product using multiline plots (must be on the same figure). Make sure that the plot for each product is a different color, and add a legend, title, and axis labels to the graph as well."
   ]
  },
  {
   "cell_type": "code",
   "execution_count": 123,
   "metadata": {},
   "outputs": [
    {
     "data": {
      "image/png": "[encoded data removed]",
      "text/plain": [
       "<Figure size 432x288 with 1 Axes>"
      ]
     },
     "metadata": {
      "needs_background": "light"
     },
     "output_type": "display_data"
    }
   ],
   "source": [
    "# Write your code for Problem 17 over here\n",
    "import matplotlib.pyplot as plt\n",
    "import pandas as pd\n",
    "import numpy as np\n",
    "\n",
    "companysales = pd.read_csv(\"file:///Users/kristenkelly/Downloads/company_sales_data.csv\")\n",
    "x = 'month_number'\n",
    "y1 = 'facecream'\n",
    "y2 = 'facewash'\n",
    "y3 = 'toothpaste'\n",
    "y4 = 'bathingsoap'\n",
    "y5 = 'shampoo'\n",
    "y6 = 'moisturizer'\n",
    "plt.plot(x,y1, color = 'red', data = companysales)\n",
    "plt.plot(x,y2, color ='orange', data = companysales)\n",
    "plt.plot(x,y3, color ='yellow', data = companysales)\n",
    "plt.plot(x,y4, color ='green', data = companysales)\n",
    "plt.plot(x,y5, color ='blue', data = companysales)\n",
    "plt.plot(x,y6, color ='purple', data = companysales)\n",
    "plt.legend(loc='upper left')\n",
    "plt.xlabel(\"Month Number\")\n",
    "plt.ylabel(\"Units Sold\")\n",
    "plt.title(\"Units Sold per Month for Different Products\")\n",
    "plt.show()\n"
   ]
  },
  {
   "cell_type": "markdown",
   "metadata": {},
   "source": [
    "## Problem 18\n",
    "### Plot the toothpaste sales data of each month using a scatter plot. Also, add a grid on the plot, the gridline style should be \"-\"."
   ]
  },
  {
   "cell_type": "code",
   "execution_count": 122,
   "metadata": {},
   "outputs": [
    {
     "data": {
      "image/png": "[encoded data removed]",
      "text/plain": [
       "<Figure size 432x288 with 1 Axes>"
      ]
     },
     "metadata": {
      "needs_background": "light"
     },
     "output_type": "display_data"
    }
   ],
   "source": [
    "# Write your code for Problem 18 over here\n",
    "import matplotlib.pyplot as plt\n",
    "import pandas as pd\n",
    "import numpy as np\n",
    "\n",
    "companysales = pd.read_csv(\"file:///Users/kristenkelly/Downloads/company_sales_data.csv\")\n",
    "x = 'month_number'\n",
    "y = 'toothpaste'\n",
    "plt.plot(x, y, 'o', color='purple', data = companysales)\n",
    "plt.xlabel(\"Month Number\")\n",
    "plt.ylabel(\"Toothpaste\")\n",
    "plt.grid(linestyle='-')\n",
    "plt.show()\n"
   ]
  },
  {
   "cell_type": "markdown",
   "metadata": {},
   "source": [
    "## Problem 19\n",
    "### Plot the product sales data of face cream and facewash using a bar chart on the same plot."
   ]
  },
  {
   "cell_type": "code",
   "execution_count": 119,
   "metadata": {},
   "outputs": [
    {
     "data": {
      "image/png": "[encoded data removed]",
      "text/plain": [
       "<Figure size 432x288 with 1 Axes>"
      ]
     },
     "metadata": {
      "needs_background": "light"
     },
     "output_type": "display_data"
    }
   ],
   "source": [
    "# Write your code for Problem 19 over here\n",
    "import matplotlib.pyplot as plt\n",
    "import pandas as pd\n",
    "import numpy as np\n",
    "\n",
    "companysales = pd.read_csv(\"file:///Users/kristenkelly/Downloads/company_sales_data.csv\")\n",
    "companysales.sum(axis = 0, skipna = True) \n",
    "height = [34480, 18515]\n",
    "bars = ('facecream', 'facewash')\n",
    "y_pos = np.arange(len(bars))\n",
    "plt.bar(y_pos, height)\n",
    "\n",
    "plt.xticks(y_pos, bars)\n",
    "\n",
    "plt.show()\n"
   ]
  },
  {
   "cell_type": "markdown",
   "metadata": {},
   "source": [
    "## Problem 20\n",
    "### Plot the total profit of each month using a histogram"
   ]
  },
  {
   "cell_type": "code",
   "execution_count": 96,
   "metadata": {},
   "outputs": [
    {
     "data": {
      "text/plain": [
       "<matplotlib.axes._subplots.AxesSubplot at 0x7fc34ec9d9d0>"
      ]
     },
     "execution_count": 96,
     "metadata": {},
     "output_type": "execute_result"
    },
    {
     "data": {
      "image/png": "[encoded data removed]",
      "text/plain": [
       "<Figure size 432x288 with 1 Axes>"
      ]
     },
     "metadata": {
      "needs_background": "light"
     },
     "output_type": "display_data"
    }
   ],
   "source": [
    "# Write your code for Problem 20 over here\n",
    "import matplotlib.pyplot as plt\n",
    "import pandas as pd\n",
    "import numpy as np\n",
    "\n",
    "companysales = pd.read_csv(\"file:///Users/kristenkelly/Downloads/company_sales_data.csv\")\n",
    "companysales['total_profit'].plot(kind='hist', bins=10)"
   ]
  },
  {
   "cell_type": "markdown",
   "metadata": {},
   "source": [
    "## Problem 21\n",
    "### Calculate the total sales data for last year for each product and show it using a pie chart. Make sure that the percentage of each slice on the pie chart is visible on the chart itself, and add a legend as well."
   ]
  },
  {
   "cell_type": "code",
   "execution_count": 120,
   "metadata": {},
   "outputs": [
    {
     "data": {
      "image/png": "[encoded data removed]",
      "text/plain": [
       "<Figure size 432x288 with 1 Axes>"
      ]
     },
     "metadata": {},
     "output_type": "display_data"
    }
   ],
   "source": [
    "# Write your code for Problem 21 over here\n",
    "import matplotlib.pyplot as plt\n",
    "import pandas as pd\n",
    "import numpy as np\n",
    "\n",
    "companysales = pd.read_csv(\"file:///Users/kristenkelly/Downloads/company_sales_data.csv\")\n",
    "\n",
    "companysales.sum(axis = 0, skipna = True) \n",
    "mydata = [34480, 18515, 69910, 114010, 25410, 18515]\n",
    "mylabels = 'facecream', 'facewash', 'toothpaste', 'bathingsoap', 'shampoo', 'moisturizer'\n",
    "plt.pie(mydata,labels = mylabels, data = companysales, autopct='%1.1f%%')\n",
    "plt.legend(loc='lower left')\n",
    "plt.show()\n"
   ]
  },
  {
   "cell_type": "markdown",
   "metadata": {},
   "source": [
    "## Problem 22\n",
    "### Plot all of the product sales data using a stack plot."
   ]
  },
  {
   "cell_type": "code",
   "execution_count": 121,
   "metadata": {},
   "outputs": [
    {
     "data": {
      "image/png": "[encoded data removed]",
      "text/plain": [
       "<Figure size 432x288 with 1 Axes>"
      ]
     },
     "metadata": {
      "needs_background": "light"
     },
     "output_type": "display_data"
    }
   ],
   "source": [
    "# Write your code for Problem 22 over here\n",
    "import matplotlib.pyplot as plt\n",
    "import pandas as pd\n",
    "import numpy as np\n",
    "\n",
    "companysales = pd.read_csv(\"file:///Users/kristenkelly/Downloads/company_sales_data.csv\")\n",
    "x = 'month_number'\n",
    "y1 = 'facecream'\n",
    "y2 = 'facewash'\n",
    "y3 = 'toothpaste'\n",
    "y4 = 'bathingsoap'\n",
    "y5 = 'shampoo'\n",
    "y6 = 'moisturizer'\n",
    "plt.stackplot(x, y1, y2,y3,y4,y5,y6, data = companysales, colors=['red', 'orange', 'yellow', 'green', 'blue', 'purple'])\n",
    "plt.show()\n"
   ]
  },
  {
   "cell_type": "code",
   "execution_count": null,
   "metadata": {},
   "outputs": [],
   "source": []
  }
 ],
 "metadata": {
  "kernelspec": {
   "display_name": "Python 3",
   "language": "python",
   "name": "python3"
  },
  "language_info": {
   "codemirror_mode": {
    "name": "ipython",
    "version": 3
   },
   "file_extension": ".py",
   "mimetype": "text/x-python",
   "name": "python",
   "nbconvert_exporter": "python",
   "pygments_lexer": "ipython3",
   "version": "3.7.6"
  }
 },
 "nbformat": 4,
 "nbformat_minor": 4
}
